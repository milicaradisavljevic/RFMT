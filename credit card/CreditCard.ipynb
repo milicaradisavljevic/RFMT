{
 "cells": [
  {
   "cell_type": "markdown",
   "metadata": {},
   "source": [
    "# Credit Card Customers "
   ]
  },
  {
   "cell_type": "markdown",
   "metadata": {},
   "source": [
    "## 1. Pozivanje biblioteka"
   ]
  },
  {
   "cell_type": "code",
   "execution_count": 134,
   "metadata": {},
   "outputs": [],
   "source": [
    "import warnings\n",
    "import pandas as pd \n",
    "import seaborn as sns \n",
    "import matplotlib.pyplot as plt\n",
    "import numpy as np \n",
    "import mpl_toolkits.mplot3d.axes3d as p3\n",
    "\n",
    "from pylab import rcParams\n",
    "from sklearn.cluster import KMeans   \n",
    "from sklearn.preprocessing import MinMaxScaler\n",
    "from sklearn.cluster import AffinityPropagation\n",
    "from sklearn import metrics\n",
    "from sklearn.metrics import silhouette_score\n",
    "from datetime import datetime\n",
    "from time import time\n",
    "from time import sleep\n",
    "import time\n",
    "from random import random\n",
    "from sklearn.cluster import AgglomerativeClustering\n",
    "from mpl_toolkits.mplot3d import Axes3D"
   ]
  },
  {
   "cell_type": "code",
   "execution_count": 135,
   "metadata": {},
   "outputs": [],
   "source": [
    "warnings.filterwarnings('ignore')"
   ]
  },
  {
   "cell_type": "markdown",
   "metadata": {},
   "source": [
    "## 2. Učitavanje podataka"
   ]
  },
  {
   "cell_type": "code",
   "execution_count": 136,
   "metadata": {},
   "outputs": [],
   "source": [
    "dataset = pd.read_csv(\"Credit Card Customer Data with dates.csv\")"
   ]
  },
  {
   "cell_type": "code",
   "execution_count": 137,
   "metadata": {},
   "outputs": [
    {
     "data": {
      "text/html": [
       "<div>\n",
       "<style scoped>\n",
       "    .dataframe tbody tr th:only-of-type {\n",
       "        vertical-align: middle;\n",
       "    }\n",
       "\n",
       "    .dataframe tbody tr th {\n",
       "        vertical-align: top;\n",
       "    }\n",
       "\n",
       "    .dataframe thead th {\n",
       "        text-align: right;\n",
       "    }\n",
       "</style>\n",
       "<table border=\"1\" class=\"dataframe\">\n",
       "  <thead>\n",
       "    <tr style=\"text-align: right;\">\n",
       "      <th></th>\n",
       "      <th>Unnamed: 0</th>\n",
       "      <th>Sl_No</th>\n",
       "      <th>Customer Key</th>\n",
       "      <th>Avg_Credit_Limit</th>\n",
       "      <th>Total_Credit_Cards</th>\n",
       "      <th>Total_visits_bank</th>\n",
       "      <th>Total_visits_online</th>\n",
       "      <th>Total_calls_made</th>\n",
       "      <th>date</th>\n",
       "    </tr>\n",
       "  </thead>\n",
       "  <tbody>\n",
       "    <tr>\n",
       "      <th>0</th>\n",
       "      <td>0</td>\n",
       "      <td>1</td>\n",
       "      <td>87073</td>\n",
       "      <td>100000</td>\n",
       "      <td>2</td>\n",
       "      <td>1</td>\n",
       "      <td>1</td>\n",
       "      <td>0</td>\n",
       "      <td>2019-03-22</td>\n",
       "    </tr>\n",
       "    <tr>\n",
       "      <th>1</th>\n",
       "      <td>1</td>\n",
       "      <td>2</td>\n",
       "      <td>38414</td>\n",
       "      <td>50000</td>\n",
       "      <td>3</td>\n",
       "      <td>0</td>\n",
       "      <td>10</td>\n",
       "      <td>9</td>\n",
       "      <td>2019-03-23</td>\n",
       "    </tr>\n",
       "    <tr>\n",
       "      <th>2</th>\n",
       "      <td>2</td>\n",
       "      <td>3</td>\n",
       "      <td>17341</td>\n",
       "      <td>50000</td>\n",
       "      <td>7</td>\n",
       "      <td>1</td>\n",
       "      <td>3</td>\n",
       "      <td>4</td>\n",
       "      <td>2019-03-24</td>\n",
       "    </tr>\n",
       "    <tr>\n",
       "      <th>3</th>\n",
       "      <td>3</td>\n",
       "      <td>4</td>\n",
       "      <td>40496</td>\n",
       "      <td>30000</td>\n",
       "      <td>5</td>\n",
       "      <td>1</td>\n",
       "      <td>1</td>\n",
       "      <td>4</td>\n",
       "      <td>2019-03-25</td>\n",
       "    </tr>\n",
       "    <tr>\n",
       "      <th>4</th>\n",
       "      <td>4</td>\n",
       "      <td>5</td>\n",
       "      <td>47437</td>\n",
       "      <td>100000</td>\n",
       "      <td>6</td>\n",
       "      <td>0</td>\n",
       "      <td>12</td>\n",
       "      <td>3</td>\n",
       "      <td>2019-03-26</td>\n",
       "    </tr>\n",
       "  </tbody>\n",
       "</table>\n",
       "</div>"
      ],
      "text/plain": [
       "   Unnamed: 0  Sl_No  Customer Key  Avg_Credit_Limit  Total_Credit_Cards  \\\n",
       "0           0      1         87073            100000                   2   \n",
       "1           1      2         38414             50000                   3   \n",
       "2           2      3         17341             50000                   7   \n",
       "3           3      4         40496             30000                   5   \n",
       "4           4      5         47437            100000                   6   \n",
       "\n",
       "   Total_visits_bank  Total_visits_online  Total_calls_made        date  \n",
       "0                  1                    1                 0  2019-03-22  \n",
       "1                  0                   10                 9  2019-03-23  \n",
       "2                  1                    3                 4  2019-03-24  \n",
       "3                  1                    1                 4  2019-03-25  \n",
       "4                  0                   12                 3  2019-03-26  "
      ]
     },
     "execution_count": 137,
     "metadata": {},
     "output_type": "execute_result"
    }
   ],
   "source": [
    "dataset.head()"
   ]
  },
  {
   "cell_type": "markdown",
   "metadata": {},
   "source": [
    "##### Kolone:\n",
    "##### Customer Key - sifra klijenta\n",
    "##### Avg_Credit_Limit - kreditni limit\n",
    "##### Total_Credit_Cards - broj kreditnih kartica\n",
    "##### Total_visits_bank - ukupna poseta banci\n",
    "##### Total_visits_online - ukupna online poseta banci\n",
    "##### Total_calls_made - ukupni pozivi\n",
    "##### date - datum"
   ]
  },
  {
   "cell_type": "code",
   "execution_count": 138,
   "metadata": {},
   "outputs": [
    {
     "data": {
      "text/plain": [
       "Index(['Unnamed: 0', 'Sl_No', 'Customer Key', 'Avg_Credit_Limit',\n",
       "       'Total_Credit_Cards', 'Total_visits_bank', 'Total_visits_online',\n",
       "       'Total_calls_made', 'date'],\n",
       "      dtype='object')"
      ]
     },
     "execution_count": 138,
     "metadata": {},
     "output_type": "execute_result"
    }
   ],
   "source": [
    "dataset.columns"
   ]
  },
  {
   "cell_type": "code",
   "execution_count": 139,
   "metadata": {},
   "outputs": [
    {
     "name": "stdout",
     "output_type": "stream",
     "text": [
      "<class 'pandas.core.frame.DataFrame'>\n",
      "RangeIndex: 660 entries, 0 to 659\n",
      "Data columns (total 9 columns):\n",
      " #   Column               Non-Null Count  Dtype \n",
      "---  ------               --------------  ----- \n",
      " 0   Unnamed: 0           660 non-null    int64 \n",
      " 1   Sl_No                660 non-null    int64 \n",
      " 2   Customer Key         660 non-null    int64 \n",
      " 3   Avg_Credit_Limit     660 non-null    int64 \n",
      " 4   Total_Credit_Cards   660 non-null    int64 \n",
      " 5   Total_visits_bank    660 non-null    int64 \n",
      " 6   Total_visits_online  660 non-null    int64 \n",
      " 7   Total_calls_made     660 non-null    int64 \n",
      " 8   date                 660 non-null    object\n",
      "dtypes: int64(8), object(1)\n",
      "memory usage: 46.5+ KB\n"
     ]
    }
   ],
   "source": [
    "dataset.info()"
   ]
  },
  {
   "cell_type": "markdown",
   "metadata": {},
   "source": [
    "## 3. Priprema podataka"
   ]
  },
  {
   "cell_type": "markdown",
   "metadata": {},
   "source": [
    "### 3.1. Nedostajuce vrednosti"
   ]
  },
  {
   "cell_type": "code",
   "execution_count": 140,
   "metadata": {},
   "outputs": [
    {
     "data": {
      "text/plain": [
       "Unnamed: 0             0\n",
       "Sl_No                  0\n",
       "Customer Key           0\n",
       "Avg_Credit_Limit       0\n",
       "Total_Credit_Cards     0\n",
       "Total_visits_bank      0\n",
       "Total_visits_online    0\n",
       "Total_calls_made       0\n",
       "date                   0\n",
       "dtype: int64"
      ]
     },
     "execution_count": 140,
     "metadata": {},
     "output_type": "execute_result"
    }
   ],
   "source": [
    "dataset.isnull().sum()"
   ]
  },
  {
   "cell_type": "markdown",
   "metadata": {},
   "source": [
    "#### Zakljucujemo da nemamo nedostajuce vrednosti."
   ]
  },
  {
   "cell_type": "code",
   "execution_count": 141,
   "metadata": {},
   "outputs": [
    {
     "data": {
      "text/plain": [
       "Unnamed: 0              int64\n",
       "Sl_No                   int64\n",
       "Customer Key            int64\n",
       "Avg_Credit_Limit        int64\n",
       "Total_Credit_Cards      int64\n",
       "Total_visits_bank       int64\n",
       "Total_visits_online     int64\n",
       "Total_calls_made        int64\n",
       "date                   object\n",
       "dtype: object"
      ]
     },
     "execution_count": 141,
     "metadata": {},
     "output_type": "execute_result"
    }
   ],
   "source": [
    "dataset.dtypes"
   ]
  },
  {
   "cell_type": "markdown",
   "metadata": {},
   "source": [
    "#### Kolona 'date' nije definisana kao datum, pomocu funkcije to_datetime formatiracemo kolonu 'date' u datum."
   ]
  },
  {
   "cell_type": "code",
   "execution_count": 142,
   "metadata": {},
   "outputs": [],
   "source": [
    "dataset['date'] = pd.to_datetime(dataset['date'], infer_datetime_format=True )"
   ]
  },
  {
   "cell_type": "code",
   "execution_count": 143,
   "metadata": {},
   "outputs": [
    {
     "data": {
      "text/plain": [
       "(660, 9)"
      ]
     },
     "execution_count": 143,
     "metadata": {},
     "output_type": "execute_result"
    }
   ],
   "source": [
    "dataset.shape"
   ]
  },
  {
   "cell_type": "markdown",
   "metadata": {},
   "source": [
    "###### Skup podataka sadrzi 660 redova i 9 kolona."
   ]
  },
  {
   "cell_type": "code",
   "execution_count": 144,
   "metadata": {},
   "outputs": [
    {
     "data": {
      "text/html": [
       "<div>\n",
       "<style scoped>\n",
       "    .dataframe tbody tr th:only-of-type {\n",
       "        vertical-align: middle;\n",
       "    }\n",
       "\n",
       "    .dataframe tbody tr th {\n",
       "        vertical-align: top;\n",
       "    }\n",
       "\n",
       "    .dataframe thead th {\n",
       "        text-align: right;\n",
       "    }\n",
       "</style>\n",
       "<table border=\"1\" class=\"dataframe\">\n",
       "  <thead>\n",
       "    <tr style=\"text-align: right;\">\n",
       "      <th></th>\n",
       "      <th>Unnamed: 0</th>\n",
       "      <th>Sl_No</th>\n",
       "      <th>Customer Key</th>\n",
       "      <th>Avg_Credit_Limit</th>\n",
       "      <th>Total_Credit_Cards</th>\n",
       "      <th>Total_visits_bank</th>\n",
       "      <th>Total_visits_online</th>\n",
       "      <th>Total_calls_made</th>\n",
       "    </tr>\n",
       "  </thead>\n",
       "  <tbody>\n",
       "    <tr>\n",
       "      <th>count</th>\n",
       "      <td>660.000000</td>\n",
       "      <td>660.000000</td>\n",
       "      <td>660.000000</td>\n",
       "      <td>660.000000</td>\n",
       "      <td>660.000000</td>\n",
       "      <td>660.000000</td>\n",
       "      <td>660.000000</td>\n",
       "      <td>660.000000</td>\n",
       "    </tr>\n",
       "    <tr>\n",
       "      <th>mean</th>\n",
       "      <td>329.500000</td>\n",
       "      <td>330.500000</td>\n",
       "      <td>55141.443939</td>\n",
       "      <td>34574.242424</td>\n",
       "      <td>4.706061</td>\n",
       "      <td>2.403030</td>\n",
       "      <td>2.606061</td>\n",
       "      <td>3.583333</td>\n",
       "    </tr>\n",
       "    <tr>\n",
       "      <th>std</th>\n",
       "      <td>190.669872</td>\n",
       "      <td>190.669872</td>\n",
       "      <td>25627.772200</td>\n",
       "      <td>37625.487804</td>\n",
       "      <td>2.167835</td>\n",
       "      <td>1.631813</td>\n",
       "      <td>2.935724</td>\n",
       "      <td>2.865317</td>\n",
       "    </tr>\n",
       "    <tr>\n",
       "      <th>min</th>\n",
       "      <td>0.000000</td>\n",
       "      <td>1.000000</td>\n",
       "      <td>11265.000000</td>\n",
       "      <td>3000.000000</td>\n",
       "      <td>1.000000</td>\n",
       "      <td>0.000000</td>\n",
       "      <td>0.000000</td>\n",
       "      <td>0.000000</td>\n",
       "    </tr>\n",
       "    <tr>\n",
       "      <th>25%</th>\n",
       "      <td>164.750000</td>\n",
       "      <td>165.750000</td>\n",
       "      <td>33825.250000</td>\n",
       "      <td>10000.000000</td>\n",
       "      <td>3.000000</td>\n",
       "      <td>1.000000</td>\n",
       "      <td>1.000000</td>\n",
       "      <td>1.000000</td>\n",
       "    </tr>\n",
       "    <tr>\n",
       "      <th>50%</th>\n",
       "      <td>329.500000</td>\n",
       "      <td>330.500000</td>\n",
       "      <td>53874.500000</td>\n",
       "      <td>18000.000000</td>\n",
       "      <td>5.000000</td>\n",
       "      <td>2.000000</td>\n",
       "      <td>2.000000</td>\n",
       "      <td>3.000000</td>\n",
       "    </tr>\n",
       "    <tr>\n",
       "      <th>75%</th>\n",
       "      <td>494.250000</td>\n",
       "      <td>495.250000</td>\n",
       "      <td>77202.500000</td>\n",
       "      <td>48000.000000</td>\n",
       "      <td>6.000000</td>\n",
       "      <td>4.000000</td>\n",
       "      <td>4.000000</td>\n",
       "      <td>5.000000</td>\n",
       "    </tr>\n",
       "    <tr>\n",
       "      <th>max</th>\n",
       "      <td>659.000000</td>\n",
       "      <td>660.000000</td>\n",
       "      <td>99843.000000</td>\n",
       "      <td>200000.000000</td>\n",
       "      <td>10.000000</td>\n",
       "      <td>5.000000</td>\n",
       "      <td>15.000000</td>\n",
       "      <td>10.000000</td>\n",
       "    </tr>\n",
       "  </tbody>\n",
       "</table>\n",
       "</div>"
      ],
      "text/plain": [
       "       Unnamed: 0       Sl_No  Customer Key  Avg_Credit_Limit  \\\n",
       "count  660.000000  660.000000    660.000000        660.000000   \n",
       "mean   329.500000  330.500000  55141.443939      34574.242424   \n",
       "std    190.669872  190.669872  25627.772200      37625.487804   \n",
       "min      0.000000    1.000000  11265.000000       3000.000000   \n",
       "25%    164.750000  165.750000  33825.250000      10000.000000   \n",
       "50%    329.500000  330.500000  53874.500000      18000.000000   \n",
       "75%    494.250000  495.250000  77202.500000      48000.000000   \n",
       "max    659.000000  660.000000  99843.000000     200000.000000   \n",
       "\n",
       "       Total_Credit_Cards  Total_visits_bank  Total_visits_online  \\\n",
       "count          660.000000         660.000000           660.000000   \n",
       "mean             4.706061           2.403030             2.606061   \n",
       "std              2.167835           1.631813             2.935724   \n",
       "min              1.000000           0.000000             0.000000   \n",
       "25%              3.000000           1.000000             1.000000   \n",
       "50%              5.000000           2.000000             2.000000   \n",
       "75%              6.000000           4.000000             4.000000   \n",
       "max             10.000000           5.000000            15.000000   \n",
       "\n",
       "       Total_calls_made  \n",
       "count        660.000000  \n",
       "mean           3.583333  \n",
       "std            2.865317  \n",
       "min            0.000000  \n",
       "25%            1.000000  \n",
       "50%            3.000000  \n",
       "75%            5.000000  \n",
       "max           10.000000  "
      ]
     },
     "execution_count": 144,
     "metadata": {},
     "output_type": "execute_result"
    }
   ],
   "source": [
    "dataset.describe()"
   ]
  },
  {
   "cell_type": "markdown",
   "metadata": {},
   "source": [
    "#### Na osnovu deskriptivne statistike zakljucujemo da ima 660 klijenata, prosecni kreditni limit je 34574.24, prosecan broj kartica je 5, prosecan broj poseta je 2, online poseta 3, poziva 4. Zakljucujemo da postoji velika razlika izmedju 75. percentila i maksimalne vrednosti, to nam pokazuje da ima mali broj outliera ali znatno odstupaju od ostalih podataka po osnovu kreditnog limita."
   ]
  },
  {
   "cell_type": "code",
   "execution_count": 145,
   "metadata": {},
   "outputs": [
    {
     "data": {
      "text/plain": [
       "3000"
      ]
     },
     "execution_count": 145,
     "metadata": {},
     "output_type": "execute_result"
    }
   ],
   "source": [
    "dataset['Avg_Credit_Limit'].min()"
   ]
  },
  {
   "cell_type": "code",
   "execution_count": 146,
   "metadata": {},
   "outputs": [
    {
     "data": {
      "text/plain": [
       "200000"
      ]
     },
     "execution_count": 146,
     "metadata": {},
     "output_type": "execute_result"
    }
   ],
   "source": [
    "dataset['Avg_Credit_Limit'].max()"
   ]
  },
  {
   "cell_type": "markdown",
   "metadata": {},
   "source": [
    "#### Najmanji kreditni limit iznosi 3.000, najveci iznosi 200.000."
   ]
  },
  {
   "cell_type": "code",
   "execution_count": 147,
   "metadata": {},
   "outputs": [
    {
     "data": {
      "text/plain": [
       "655"
      ]
     },
     "execution_count": 147,
     "metadata": {},
     "output_type": "execute_result"
    }
   ],
   "source": [
    "dataset['Customer Key'].nunique()"
   ]
  },
  {
   "cell_type": "markdown",
   "metadata": {},
   "source": [
    "### 3.2. Agregacija podataka"
   ]
  },
  {
   "cell_type": "code",
   "execution_count": 148,
   "metadata": {},
   "outputs": [],
   "source": [
    "prepared_data = dataset.groupby('Customer Key').agg({'Total_Credit_Cards': 'sum',\n",
    "                                                     'Avg_Credit_Limit': 'sum',\n",
    "                                                     'Total_visits_bank': 'sum',\n",
    "                                                     'Total_visits_online': 'sum',\n",
    "                                                     'Total_calls_made': 'sum',\n",
    "                                                     'date': ['min', 'max'] \n",
    "                                                    })                     "
   ]
  },
  {
   "cell_type": "code",
   "execution_count": 149,
   "metadata": {},
   "outputs": [],
   "source": [
    "prepared_data.reset_index(inplace=True)"
   ]
  },
  {
   "cell_type": "markdown",
   "metadata": {},
   "source": [
    "#### Definisacemo indeks, ne zelimo da nam 'Customer ID' bude ujedno i indeks, zelimo da ga odvojimo."
   ]
  },
  {
   "cell_type": "markdown",
   "metadata": {},
   "source": [
    "### 3.3. Izbor kolona za modelovanje"
   ]
  },
  {
   "cell_type": "code",
   "execution_count": 150,
   "metadata": {},
   "outputs": [],
   "source": [
    "prepared_data.columns = ['CustomerID','Total_Credit_Cards','MonetaryValue','Total_visits_bank','Total_visits_online', 'Total_calls_made', 'FirstPurchase', 'LastPurchase']"
   ]
  },
  {
   "cell_type": "code",
   "execution_count": 151,
   "metadata": {},
   "outputs": [
    {
     "data": {
      "text/plain": [
       "Timestamp('2021-01-09 00:00:00')"
      ]
     },
     "execution_count": 151,
     "metadata": {},
     "output_type": "execute_result"
    }
   ],
   "source": [
    "prepared_data['LastPurchase'].max()"
   ]
  },
  {
   "cell_type": "code",
   "execution_count": 152,
   "metadata": {},
   "outputs": [],
   "source": [
    "prepared_data['ObservationDate'] = pd.to_datetime('2021-01-10')"
   ]
  },
  {
   "cell_type": "markdown",
   "metadata": {},
   "source": [
    "#### Datum na osnovu kojeg cemo da racunamo koliko dana je proteklo od poslednje kupovine, bice dan nakon poslednje kupovine."
   ]
  },
  {
   "cell_type": "code",
   "execution_count": 153,
   "metadata": {},
   "outputs": [
    {
     "data": {
      "text/plain": [
       "CustomerID                      int64\n",
       "Total_Credit_Cards              int64\n",
       "MonetaryValue                   int64\n",
       "Total_visits_bank               int64\n",
       "Total_visits_online             int64\n",
       "Total_calls_made                int64\n",
       "FirstPurchase          datetime64[ns]\n",
       "LastPurchase           datetime64[ns]\n",
       "ObservationDate        datetime64[ns]\n",
       "dtype: object"
      ]
     },
     "execution_count": 153,
     "metadata": {},
     "output_type": "execute_result"
    }
   ],
   "source": [
    "prepared_data.dtypes"
   ]
  },
  {
   "cell_type": "code",
   "execution_count": 154,
   "metadata": {},
   "outputs": [],
   "source": [
    "prepared_data['Recency'] = (prepared_data['ObservationDate']-prepared_data['LastPurchase']).dt.days"
   ]
  },
  {
   "cell_type": "markdown",
   "metadata": {},
   "source": [
    "#### Kolona 'Recency' nam pokazuje koliko dana je proslo od poslednje kupovine."
   ]
  },
  {
   "cell_type": "code",
   "execution_count": 155,
   "metadata": {},
   "outputs": [],
   "source": [
    "prepared_data = prepared_data[['CustomerID', 'Total_Credit_Cards', 'MonetaryValue','Total_visits_bank','Total_visits_online','Total_calls_made','Recency']]"
   ]
  },
  {
   "cell_type": "code",
   "execution_count": 156,
   "metadata": {},
   "outputs": [
    {
     "data": {
      "text/html": [
       "<div>\n",
       "<style scoped>\n",
       "    .dataframe tbody tr th:only-of-type {\n",
       "        vertical-align: middle;\n",
       "    }\n",
       "\n",
       "    .dataframe tbody tr th {\n",
       "        vertical-align: top;\n",
       "    }\n",
       "\n",
       "    .dataframe thead th {\n",
       "        text-align: right;\n",
       "    }\n",
       "</style>\n",
       "<table border=\"1\" class=\"dataframe\">\n",
       "  <thead>\n",
       "    <tr style=\"text-align: right;\">\n",
       "      <th></th>\n",
       "      <th>CustomerID</th>\n",
       "      <th>Total_Credit_Cards</th>\n",
       "      <th>MonetaryValue</th>\n",
       "      <th>Total_visits_bank</th>\n",
       "      <th>Total_visits_online</th>\n",
       "      <th>Total_calls_made</th>\n",
       "      <th>Recency</th>\n",
       "    </tr>\n",
       "  </thead>\n",
       "  <tbody>\n",
       "    <tr>\n",
       "      <th>0</th>\n",
       "      <td>11265</td>\n",
       "      <td>7</td>\n",
       "      <td>51000</td>\n",
       "      <td>3</td>\n",
       "      <td>2</td>\n",
       "      <td>0</td>\n",
       "      <td>210</td>\n",
       "    </tr>\n",
       "    <tr>\n",
       "      <th>1</th>\n",
       "      <td>11398</td>\n",
       "      <td>6</td>\n",
       "      <td>12000</td>\n",
       "      <td>5</td>\n",
       "      <td>2</td>\n",
       "      <td>1</td>\n",
       "      <td>282</td>\n",
       "    </tr>\n",
       "    <tr>\n",
       "      <th>2</th>\n",
       "      <td>11412</td>\n",
       "      <td>2</td>\n",
       "      <td>19000</td>\n",
       "      <td>2</td>\n",
       "      <td>3</td>\n",
       "      <td>4</td>\n",
       "      <td>481</td>\n",
       "    </tr>\n",
       "    <tr>\n",
       "      <th>3</th>\n",
       "      <td>11466</td>\n",
       "      <td>7</td>\n",
       "      <td>9000</td>\n",
       "      <td>5</td>\n",
       "      <td>0</td>\n",
       "      <td>0</td>\n",
       "      <td>339</td>\n",
       "    </tr>\n",
       "    <tr>\n",
       "      <th>4</th>\n",
       "      <td>11562</td>\n",
       "      <td>4</td>\n",
       "      <td>38000</td>\n",
       "      <td>3</td>\n",
       "      <td>2</td>\n",
       "      <td>0</td>\n",
       "      <td>51</td>\n",
       "    </tr>\n",
       "  </tbody>\n",
       "</table>\n",
       "</div>"
      ],
      "text/plain": [
       "   CustomerID  Total_Credit_Cards  MonetaryValue  Total_visits_bank  \\\n",
       "0       11265                   7          51000                  3   \n",
       "1       11398                   6          12000                  5   \n",
       "2       11412                   2          19000                  2   \n",
       "3       11466                   7           9000                  5   \n",
       "4       11562                   4          38000                  3   \n",
       "\n",
       "   Total_visits_online  Total_calls_made  Recency  \n",
       "0                    2                 0      210  \n",
       "1                    2                 1      282  \n",
       "2                    3                 4      481  \n",
       "3                    0                 0      339  \n",
       "4                    2                 0       51  "
      ]
     },
     "execution_count": 156,
     "metadata": {},
     "output_type": "execute_result"
    }
   ],
   "source": [
    "prepared_data.head()"
   ]
  },
  {
   "cell_type": "code",
   "execution_count": 157,
   "metadata": {},
   "outputs": [
    {
     "data": {
      "text/html": [
       "<div>\n",
       "<style scoped>\n",
       "    .dataframe tbody tr th:only-of-type {\n",
       "        vertical-align: middle;\n",
       "    }\n",
       "\n",
       "    .dataframe tbody tr th {\n",
       "        vertical-align: top;\n",
       "    }\n",
       "\n",
       "    .dataframe thead th {\n",
       "        text-align: right;\n",
       "    }\n",
       "</style>\n",
       "<table border=\"1\" class=\"dataframe\">\n",
       "  <thead>\n",
       "    <tr style=\"text-align: right;\">\n",
       "      <th></th>\n",
       "      <th>CustomerID</th>\n",
       "      <th>Total_Credit_Cards</th>\n",
       "      <th>MonetaryValue</th>\n",
       "      <th>Total_visits_bank</th>\n",
       "      <th>Total_visits_online</th>\n",
       "      <th>Total_calls_made</th>\n",
       "      <th>Recency</th>\n",
       "    </tr>\n",
       "  </thead>\n",
       "  <tbody>\n",
       "    <tr>\n",
       "      <th>count</th>\n",
       "      <td>655.000000</td>\n",
       "      <td>655.000000</td>\n",
       "      <td>655.000000</td>\n",
       "      <td>655.000000</td>\n",
       "      <td>655.000000</td>\n",
       "      <td>655.000000</td>\n",
       "      <td>655.000000</td>\n",
       "    </tr>\n",
       "    <tr>\n",
       "      <th>mean</th>\n",
       "      <td>55058.158779</td>\n",
       "      <td>4.741985</td>\n",
       "      <td>34838.167939</td>\n",
       "      <td>2.421374</td>\n",
       "      <td>2.625954</td>\n",
       "      <td>3.610687</td>\n",
       "      <td>329.447328</td>\n",
       "    </tr>\n",
       "    <tr>\n",
       "      <th>std</th>\n",
       "      <td>25606.965469</td>\n",
       "      <td>2.229012</td>\n",
       "      <td>38000.419397</td>\n",
       "      <td>1.657944</td>\n",
       "      <td>2.952571</td>\n",
       "      <td>2.869678</td>\n",
       "      <td>190.407385</td>\n",
       "    </tr>\n",
       "    <tr>\n",
       "      <th>min</th>\n",
       "      <td>11265.000000</td>\n",
       "      <td>1.000000</td>\n",
       "      <td>3000.000000</td>\n",
       "      <td>0.000000</td>\n",
       "      <td>0.000000</td>\n",
       "      <td>0.000000</td>\n",
       "      <td>1.000000</td>\n",
       "    </tr>\n",
       "    <tr>\n",
       "      <th>25%</th>\n",
       "      <td>33623.500000</td>\n",
       "      <td>3.000000</td>\n",
       "      <td>10000.000000</td>\n",
       "      <td>1.000000</td>\n",
       "      <td>1.000000</td>\n",
       "      <td>1.000000</td>\n",
       "      <td>164.500000</td>\n",
       "    </tr>\n",
       "    <tr>\n",
       "      <th>50%</th>\n",
       "      <td>53898.000000</td>\n",
       "      <td>5.000000</td>\n",
       "      <td>18000.000000</td>\n",
       "      <td>2.000000</td>\n",
       "      <td>2.000000</td>\n",
       "      <td>3.000000</td>\n",
       "      <td>330.000000</td>\n",
       "    </tr>\n",
       "    <tr>\n",
       "      <th>75%</th>\n",
       "      <td>77084.500000</td>\n",
       "      <td>6.000000</td>\n",
       "      <td>48500.000000</td>\n",
       "      <td>4.000000</td>\n",
       "      <td>4.000000</td>\n",
       "      <td>5.000000</td>\n",
       "      <td>493.500000</td>\n",
       "    </tr>\n",
       "    <tr>\n",
       "      <th>max</th>\n",
       "      <td>99843.000000</td>\n",
       "      <td>13.000000</td>\n",
       "      <td>204000.000000</td>\n",
       "      <td>10.000000</td>\n",
       "      <td>15.000000</td>\n",
       "      <td>10.000000</td>\n",
       "      <td>660.000000</td>\n",
       "    </tr>\n",
       "  </tbody>\n",
       "</table>\n",
       "</div>"
      ],
      "text/plain": [
       "         CustomerID  Total_Credit_Cards  MonetaryValue  Total_visits_bank  \\\n",
       "count    655.000000          655.000000     655.000000         655.000000   \n",
       "mean   55058.158779            4.741985   34838.167939           2.421374   \n",
       "std    25606.965469            2.229012   38000.419397           1.657944   \n",
       "min    11265.000000            1.000000    3000.000000           0.000000   \n",
       "25%    33623.500000            3.000000   10000.000000           1.000000   \n",
       "50%    53898.000000            5.000000   18000.000000           2.000000   \n",
       "75%    77084.500000            6.000000   48500.000000           4.000000   \n",
       "max    99843.000000           13.000000  204000.000000          10.000000   \n",
       "\n",
       "       Total_visits_online  Total_calls_made     Recency  \n",
       "count           655.000000        655.000000  655.000000  \n",
       "mean              2.625954          3.610687  329.447328  \n",
       "std               2.952571          2.869678  190.407385  \n",
       "min               0.000000          0.000000    1.000000  \n",
       "25%               1.000000          1.000000  164.500000  \n",
       "50%               2.000000          3.000000  330.000000  \n",
       "75%               4.000000          5.000000  493.500000  \n",
       "max              15.000000         10.000000  660.000000  "
      ]
     },
     "execution_count": 157,
     "metadata": {},
     "output_type": "execute_result"
    }
   ],
   "source": [
    "prepared_data.describe()"
   ]
  },
  {
   "cell_type": "markdown",
   "metadata": {},
   "source": [
    "#### Na osnovu deskriptivne statistike zakljucujemo da ima 655 transakcija, prosecni kreditni limit je 34838.17, prosecan broj kartica je 5, prosecan broj poseta je 2, online poseta 3, poziva 4, prosecan broj dana koji su prosli od poslednje kupovine je 329."
   ]
  },
  {
   "cell_type": "markdown",
   "metadata": {},
   "source": [
    "## 4. Vizualizacija"
   ]
  },
  {
   "cell_type": "markdown",
   "metadata": {},
   "source": [
    "### 4.1. Histogram"
   ]
  },
  {
   "cell_type": "code",
   "execution_count": 158,
   "metadata": {},
   "outputs": [
    {
     "data": {
      "image/png": "[encoded data removed]",
      "text/plain": [
       "<Figure size 504x360 with 1 Axes>"
      ]
     },
     "metadata": {
      "needs_background": "light"
     },
     "output_type": "display_data"
    }
   ],
   "source": [
    "plt.figure(figsize=[7,5])    \n",
    "plt.hist(prepared_data['Total_Credit_Cards'], bins=20)  \n",
    "\n",
    "plt.ylabel('Broj klijenata')  \n",
    "plt.xlabel('Broj kartica') \n",
    "plt.title('Distribucija broja klijenata kartica klijenata u odnosu na broj kartica'); "
   ]
  },
  {
   "cell_type": "markdown",
   "metadata": {},
   "source": [
    "###### Na osnovu histograma, zakljucujemo da najveci broj klijenata ima 4 kartice, dok veoma mali broj klijenata ima preko 12 kartica."
   ]
  },
  {
   "cell_type": "markdown",
   "metadata": {},
   "source": [
    "### 4.2. Distplot"
   ]
  },
  {
   "cell_type": "code",
   "execution_count": 159,
   "metadata": {},
   "outputs": [
    {
     "data": {
      "text/plain": [
       "<AxesSubplot:xlabel='MonetaryValue', ylabel='Density'>"
      ]
     },
     "execution_count": 159,
     "metadata": {},
     "output_type": "execute_result"
    },
    {
     "data": {
      "image/png": "[encoded data removed]",
      "text/plain": [
       "<Figure size 432x288 with 1 Axes>"
      ]
     },
     "metadata": {
      "needs_background": "light"
     },
     "output_type": "display_data"
    }
   ],
   "source": [
    "sns.distplot(prepared_data['MonetaryValue'])"
   ]
  },
  {
   "cell_type": "markdown",
   "metadata": {},
   "source": [
    "###### Zakljucujemo da podaci ne slede normalan raspored. U velikoj meri imamo odstupanja, najveci broj klijenata ima monetarnu vrednost do 10.000."
   ]
  },
  {
   "cell_type": "markdown",
   "metadata": {},
   "source": [
    "### 4.3. Boxplot"
   ]
  },
  {
   "cell_type": "code",
   "execution_count": 215,
   "metadata": {},
   "outputs": [
    {
     "data": {
      "text/plain": [
       "<AxesSubplot:xlabel='Total_Credit_Cards', ylabel='MonetaryValue'>"
      ]
     },
     "execution_count": 215,
     "metadata": {},
     "output_type": "execute_result"
    },
    {
     "data": {
      "image/png": "[encoded data removed]",
      "text/plain": [
       "<Figure size 432x288 with 1 Axes>"
      ]
     },
     "metadata": {
      "needs_background": "light"
     },
     "output_type": "display_data"
    }
   ],
   "source": [
    "sns.boxplot(x=\"Total_Credit_Cards\", y=\"MonetaryValue\", data=prepared_data, palette='tab10')"
   ]
  },
  {
   "cell_type": "markdown",
   "metadata": {},
   "source": [
    "#### Boxplot nam pokazuje odnos izmedju broja kartice i kreditnog limita. Zakljucujemo da postoje outlier-i kod kartica 2, 3 i 7. Oni predstavljaju prave outlier-e. Oni bi trebalo da se izbrisu iz podataka ali smo ih mi sada ostavili da bismo uvideli da li su to transakcije koje su prevare ili je rec o klijentima koji imaju veliki znacaj za banku."
   ]
  },
  {
   "cell_type": "code",
   "execution_count": 161,
   "metadata": {},
   "outputs": [],
   "source": [
    "Q1 = prepared_data.quantile(0.25)\n",
    "Q3 = prepared_data.quantile(0.75)\n",
    "IQR = Q3 - Q1"
   ]
  },
  {
   "cell_type": "code",
   "execution_count": 162,
   "metadata": {},
   "outputs": [
    {
     "data": {
      "text/plain": [
       "CustomerID              0\n",
       "Total_Credit_Cards      2\n",
       "MonetaryValue          39\n",
       "Total_visits_bank       1\n",
       "Total_visits_online    38\n",
       "Total_calls_made        0\n",
       "Recency                 0\n",
       "dtype: int64"
      ]
     },
     "execution_count": 162,
     "metadata": {},
     "output_type": "execute_result"
    }
   ],
   "source": [
    "((prepared_data > (Q3 + 1.5 * IQR))).sum()"
   ]
  },
  {
   "cell_type": "markdown",
   "metadata": {},
   "source": [
    "### 4.4. Stripplot"
   ]
  },
  {
   "cell_type": "code",
   "execution_count": 163,
   "metadata": {},
   "outputs": [
    {
     "data": {
      "text/plain": [
       "<AxesSubplot:xlabel='Total_visits_bank', ylabel='Total_visits_online'>"
      ]
     },
     "execution_count": 163,
     "metadata": {},
     "output_type": "execute_result"
    },
    {
     "data": {
      "image/png": "[encoded data removed]",
      "text/plain": [
       "<Figure size 432x288 with 1 Axes>"
      ]
     },
     "metadata": {
      "needs_background": "light"
     },
     "output_type": "display_data"
    }
   ],
   "source": [
    "sns.stripplot(x=\"Total_visits_bank\", y=\"Total_visits_online\", data=prepared_data)"
   ]
  },
  {
   "cell_type": "markdown",
   "metadata": {},
   "source": [
    "#### Stripplot nam pokazuje odnos izmedju ukupnog broja poseta banke uzivo i ukupnog broja online poseta banke. Zakljucujemo da sa minimalnim posetama uzivo ima najveci broj online poseta. Sa povecanjem broja uzivo poseta, smanjuje se broj online poseta. Takodje, postoje i outlier-i."
   ]
  },
  {
   "cell_type": "code",
   "execution_count": 164,
   "metadata": {},
   "outputs": [
    {
     "name": "stdout",
     "output_type": "stream",
     "text": [
      "<class 'pandas.core.frame.DataFrame'>\n",
      "RangeIndex: 655 entries, 0 to 654\n",
      "Data columns (total 7 columns):\n",
      " #   Column               Non-Null Count  Dtype\n",
      "---  ------               --------------  -----\n",
      " 0   CustomerID           655 non-null    int64\n",
      " 1   Total_Credit_Cards   655 non-null    int64\n",
      " 2   MonetaryValue        655 non-null    int64\n",
      " 3   Total_visits_bank    655 non-null    int64\n",
      " 4   Total_visits_online  655 non-null    int64\n",
      " 5   Total_calls_made     655 non-null    int64\n",
      " 6   Recency              655 non-null    int64\n",
      "dtypes: int64(7)\n",
      "memory usage: 35.9 KB\n"
     ]
    }
   ],
   "source": [
    "prepared_data.info()"
   ]
  },
  {
   "cell_type": "markdown",
   "metadata": {},
   "source": [
    "## 5. Modelovanje rešenja : RFM clustering"
   ]
  },
  {
   "cell_type": "markdown",
   "metadata": {},
   "source": [
    "### 5.1. Normalizacija podataka"
   ]
  },
  {
   "cell_type": "code",
   "execution_count": 165,
   "metadata": {},
   "outputs": [],
   "source": [
    "scaler = MinMaxScaler(feature_range=(-1,1))"
   ]
  },
  {
   "cell_type": "code",
   "execution_count": 166,
   "metadata": {},
   "outputs": [
    {
     "data": {
      "text/plain": [
       "MinMaxScaler(feature_range=(-1, 1))"
      ]
     },
     "execution_count": 166,
     "metadata": {},
     "output_type": "execute_result"
    }
   ],
   "source": [
    "scaler.fit(prepared_data[['Total_Credit_Cards', 'MonetaryValue',\n",
    "                         'Total_visits_bank', 'Total_visits_online',\n",
    "                         'Total_calls_made','Recency']])"
   ]
  },
  {
   "cell_type": "code",
   "execution_count": 167,
   "metadata": {},
   "outputs": [],
   "source": [
    "normalized_data = scaler.transform(prepared_data[['Total_Credit_Cards','MonetaryValue',\n",
    "                         'Total_visits_bank', 'Total_visits_online',\n",
    "                         'Total_calls_made','Recency']])"
   ]
  },
  {
   "cell_type": "markdown",
   "metadata": {},
   "source": [
    "## Verzija 1: K means clustering"
   ]
  },
  {
   "cell_type": "code",
   "execution_count": 168,
   "metadata": {},
   "outputs": [
    {
     "data": {
      "image/png": "[encoded data removed]",
      "text/plain": [
       "<Figure size 432x288 with 1 Axes>"
      ]
     },
     "metadata": {
      "needs_background": "light"
     },
     "output_type": "display_data"
    }
   ],
   "source": [
    "sse = []\n",
    "\n",
    "for k in range(1, 15):\n",
    "    km = KMeans(n_clusters=k)\n",
    "    km.fit(normalized_data)\n",
    "    sse.append(km.inertia_)\n",
    "\n",
    "plt.plot(range(1, 15), sse, '-o')\n",
    "plt.title('Elbow Method')\n",
    "plt.xlabel('Number of clusters *k*')\n",
    "plt.ylabel('Sum of squared distance');"
   ]
  },
  {
   "cell_type": "markdown",
   "metadata": {},
   "source": [
    "#### Broj klastera odredjujemo na osnovu krive, zakljucujemo da nakon 10. klastera kriva pocinje da se ravna, tako da cemo izabrati 10 klastera."
   ]
  },
  {
   "cell_type": "code",
   "execution_count": 169,
   "metadata": {},
   "outputs": [],
   "source": [
    "model = KMeans(n_clusters=10)"
   ]
  },
  {
   "cell_type": "markdown",
   "metadata": {},
   "source": [
    "##### model = KMeans(n_clusters=6)\n",
    "##### Ukoliko bi definisali 6 klastera bio bi nam dosta manji Silhouette Coefficient zato smo ostavili 12.\n",
    "\n",
    "##### model = KMeans(n_clusters=12)\n",
    "##### Probali smo i da definisemo 12 klastera ali je Silhouette Coefficient isti pa nema potreba da ostaje veci broj klastera."
   ]
  },
  {
   "cell_type": "code",
   "execution_count": 170,
   "metadata": {},
   "outputs": [
    {
     "data": {
      "text/plain": [
       "KMeans(n_clusters=10)"
      ]
     },
     "execution_count": 170,
     "metadata": {},
     "output_type": "execute_result"
    }
   ],
   "source": [
    "model.fit(normalized_data)"
   ]
  },
  {
   "cell_type": "code",
   "execution_count": 171,
   "metadata": {},
   "outputs": [],
   "source": [
    "centroids = model.cluster_centers_"
   ]
  },
  {
   "cell_type": "code",
   "execution_count": 172,
   "metadata": {},
   "outputs": [],
   "source": [
    "centroids = scaler.inverse_transform(centroids)"
   ]
  },
  {
   "cell_type": "code",
   "execution_count": 173,
   "metadata": {},
   "outputs": [],
   "source": [
    "centroids_dataset = pd.DataFrame(centroids, columns=['Total_Credit_Cards', 'MonetaryValue',\n",
    "                         'Total_visits_bank', 'Total_visits_online',\n",
    "                         'Total_calls_made','Recency'])"
   ]
  },
  {
   "cell_type": "code",
   "execution_count": 174,
   "metadata": {},
   "outputs": [],
   "source": [
    "prepared_data['KMeans_Cluster_id'] = model.labels_"
   ]
  },
  {
   "cell_type": "code",
   "execution_count": 175,
   "metadata": {},
   "outputs": [
    {
     "data": {
      "text/html": [
       "<div>\n",
       "<style scoped>\n",
       "    .dataframe tbody tr th:only-of-type {\n",
       "        vertical-align: middle;\n",
       "    }\n",
       "\n",
       "    .dataframe tbody tr th {\n",
       "        vertical-align: top;\n",
       "    }\n",
       "\n",
       "    .dataframe thead th {\n",
       "        text-align: right;\n",
       "    }\n",
       "</style>\n",
       "<table border=\"1\" class=\"dataframe\">\n",
       "  <thead>\n",
       "    <tr style=\"text-align: right;\">\n",
       "      <th></th>\n",
       "      <th>CustomerID</th>\n",
       "      <th>Total_Credit_Cards</th>\n",
       "      <th>MonetaryValue</th>\n",
       "      <th>Total_visits_bank</th>\n",
       "      <th>Total_visits_online</th>\n",
       "      <th>Total_calls_made</th>\n",
       "      <th>Recency</th>\n",
       "      <th>KMeans_Cluster_id</th>\n",
       "    </tr>\n",
       "  </thead>\n",
       "  <tbody>\n",
       "    <tr>\n",
       "      <th>0</th>\n",
       "      <td>11265</td>\n",
       "      <td>7</td>\n",
       "      <td>51000</td>\n",
       "      <td>3</td>\n",
       "      <td>2</td>\n",
       "      <td>0</td>\n",
       "      <td>210</td>\n",
       "      <td>9</td>\n",
       "    </tr>\n",
       "    <tr>\n",
       "      <th>1</th>\n",
       "      <td>11398</td>\n",
       "      <td>6</td>\n",
       "      <td>12000</td>\n",
       "      <td>5</td>\n",
       "      <td>2</td>\n",
       "      <td>1</td>\n",
       "      <td>282</td>\n",
       "      <td>2</td>\n",
       "    </tr>\n",
       "    <tr>\n",
       "      <th>2</th>\n",
       "      <td>11412</td>\n",
       "      <td>2</td>\n",
       "      <td>19000</td>\n",
       "      <td>2</td>\n",
       "      <td>3</td>\n",
       "      <td>4</td>\n",
       "      <td>481</td>\n",
       "      <td>5</td>\n",
       "    </tr>\n",
       "    <tr>\n",
       "      <th>3</th>\n",
       "      <td>11466</td>\n",
       "      <td>7</td>\n",
       "      <td>9000</td>\n",
       "      <td>5</td>\n",
       "      <td>0</td>\n",
       "      <td>0</td>\n",
       "      <td>339</td>\n",
       "      <td>2</td>\n",
       "    </tr>\n",
       "    <tr>\n",
       "      <th>4</th>\n",
       "      <td>11562</td>\n",
       "      <td>4</td>\n",
       "      <td>38000</td>\n",
       "      <td>3</td>\n",
       "      <td>2</td>\n",
       "      <td>0</td>\n",
       "      <td>51</td>\n",
       "      <td>9</td>\n",
       "    </tr>\n",
       "  </tbody>\n",
       "</table>\n",
       "</div>"
      ],
      "text/plain": [
       "   CustomerID  Total_Credit_Cards  MonetaryValue  Total_visits_bank  \\\n",
       "0       11265                   7          51000                  3   \n",
       "1       11398                   6          12000                  5   \n",
       "2       11412                   2          19000                  2   \n",
       "3       11466                   7           9000                  5   \n",
       "4       11562                   4          38000                  3   \n",
       "\n",
       "   Total_visits_online  Total_calls_made  Recency  KMeans_Cluster_id  \n",
       "0                    2                 0      210                  9  \n",
       "1                    2                 1      282                  2  \n",
       "2                    3                 4      481                  5  \n",
       "3                    0                 0      339                  2  \n",
       "4                    2                 0       51                  9  "
      ]
     },
     "execution_count": 175,
     "metadata": {},
     "output_type": "execute_result"
    }
   ],
   "source": [
    "prepared_data.head()"
   ]
  },
  {
   "cell_type": "code",
   "execution_count": 176,
   "metadata": {},
   "outputs": [
    {
     "data": {
      "text/plain": [
       "2    86\n",
       "6    85\n",
       "9    83\n",
       "4    81\n",
       "1    79\n",
       "0    75\n",
       "5    65\n",
       "7    52\n",
       "8    25\n",
       "3    24\n",
       "Name: KMeans_Cluster_id, dtype: int64"
      ]
     },
     "execution_count": 176,
     "metadata": {},
     "output_type": "execute_result"
    }
   ],
   "source": [
    "prepared_data['KMeans_Cluster_id'].value_counts()"
   ]
  },
  {
   "cell_type": "markdown",
   "metadata": {},
   "source": [
    "#### Pozivanjem ove funkcije dobijamo broj transakcija koji sadrzi svaki klaster. "
   ]
  },
  {
   "cell_type": "code",
   "execution_count": 216,
   "metadata": {},
   "outputs": [
    {
     "data": {
      "text/html": [
       "<div>\n",
       "<style scoped>\n",
       "    .dataframe tbody tr th:only-of-type {\n",
       "        vertical-align: middle;\n",
       "    }\n",
       "\n",
       "    .dataframe tbody tr th {\n",
       "        vertical-align: top;\n",
       "    }\n",
       "\n",
       "    .dataframe thead th {\n",
       "        text-align: right;\n",
       "    }\n",
       "</style>\n",
       "<table border=\"1\" class=\"dataframe\">\n",
       "  <thead>\n",
       "    <tr style=\"text-align: right;\">\n",
       "      <th></th>\n",
       "      <th>CustomerID</th>\n",
       "      <th>Total_Credit_Cards</th>\n",
       "      <th>MonetaryValue</th>\n",
       "      <th>Total_visits_bank</th>\n",
       "      <th>Total_visits_online</th>\n",
       "      <th>Total_calls_made</th>\n",
       "      <th>Recency</th>\n",
       "      <th>KMeans_Cluster_id</th>\n",
       "      <th>Affinity_Cluster_id</th>\n",
       "      <th>AgglomerativeClustering_id</th>\n",
       "    </tr>\n",
       "  </thead>\n",
       "  <tbody>\n",
       "    <tr>\n",
       "      <th>count</th>\n",
       "      <td>86.000000</td>\n",
       "      <td>86.000000</td>\n",
       "      <td>86.000000</td>\n",
       "      <td>86.000000</td>\n",
       "      <td>86.000000</td>\n",
       "      <td>86.000000</td>\n",
       "      <td>86.000000</td>\n",
       "      <td>86.0</td>\n",
       "      <td>86.000000</td>\n",
       "      <td>86.000000</td>\n",
       "    </tr>\n",
       "    <tr>\n",
       "      <th>mean</th>\n",
       "      <td>53093.488372</td>\n",
       "      <td>5.465116</td>\n",
       "      <td>12860.465116</td>\n",
       "      <td>3.465116</td>\n",
       "      <td>1.011628</td>\n",
       "      <td>0.744186</td>\n",
       "      <td>347.895349</td>\n",
       "      <td>2.0</td>\n",
       "      <td>5.174419</td>\n",
       "      <td>62.116279</td>\n",
       "    </tr>\n",
       "    <tr>\n",
       "      <th>std</th>\n",
       "      <td>25313.863204</td>\n",
       "      <td>1.113528</td>\n",
       "      <td>5113.218834</td>\n",
       "      <td>1.204869</td>\n",
       "      <td>0.874396</td>\n",
       "      <td>0.689178</td>\n",
       "      <td>50.248565</td>\n",
       "      <td>0.0</td>\n",
       "      <td>2.229175</td>\n",
       "      <td>36.222001</td>\n",
       "    </tr>\n",
       "    <tr>\n",
       "      <th>min</th>\n",
       "      <td>11398.000000</td>\n",
       "      <td>4.000000</td>\n",
       "      <td>5000.000000</td>\n",
       "      <td>2.000000</td>\n",
       "      <td>0.000000</td>\n",
       "      <td>0.000000</td>\n",
       "      <td>248.000000</td>\n",
       "      <td>2.0</td>\n",
       "      <td>1.000000</td>\n",
       "      <td>6.000000</td>\n",
       "    </tr>\n",
       "    <tr>\n",
       "      <th>25%</th>\n",
       "      <td>31724.250000</td>\n",
       "      <td>4.000000</td>\n",
       "      <td>8000.000000</td>\n",
       "      <td>2.000000</td>\n",
       "      <td>0.000000</td>\n",
       "      <td>0.000000</td>\n",
       "      <td>308.250000</td>\n",
       "      <td>2.0</td>\n",
       "      <td>3.000000</td>\n",
       "      <td>34.000000</td>\n",
       "    </tr>\n",
       "    <tr>\n",
       "      <th>50%</th>\n",
       "      <td>51918.000000</td>\n",
       "      <td>6.000000</td>\n",
       "      <td>12000.000000</td>\n",
       "      <td>3.000000</td>\n",
       "      <td>1.000000</td>\n",
       "      <td>1.000000</td>\n",
       "      <td>347.500000</td>\n",
       "      <td>2.0</td>\n",
       "      <td>6.000000</td>\n",
       "      <td>63.000000</td>\n",
       "    </tr>\n",
       "    <tr>\n",
       "      <th>75%</th>\n",
       "      <td>71816.750000</td>\n",
       "      <td>6.000000</td>\n",
       "      <td>17000.000000</td>\n",
       "      <td>5.000000</td>\n",
       "      <td>2.000000</td>\n",
       "      <td>1.000000</td>\n",
       "      <td>392.750000</td>\n",
       "      <td>2.0</td>\n",
       "      <td>6.000000</td>\n",
       "      <td>89.000000</td>\n",
       "    </tr>\n",
       "    <tr>\n",
       "      <th>max</th>\n",
       "      <td>97109.000000</td>\n",
       "      <td>7.000000</td>\n",
       "      <td>31000.000000</td>\n",
       "      <td>5.000000</td>\n",
       "      <td>2.000000</td>\n",
       "      <td>2.000000</td>\n",
       "      <td>432.000000</td>\n",
       "      <td>2.0</td>\n",
       "      <td>14.000000</td>\n",
       "      <td>124.000000</td>\n",
       "    </tr>\n",
       "  </tbody>\n",
       "</table>\n",
       "</div>"
      ],
      "text/plain": [
       "         CustomerID  Total_Credit_Cards  MonetaryValue  Total_visits_bank  \\\n",
       "count     86.000000           86.000000      86.000000          86.000000   \n",
       "mean   53093.488372            5.465116   12860.465116           3.465116   \n",
       "std    25313.863204            1.113528    5113.218834           1.204869   \n",
       "min    11398.000000            4.000000    5000.000000           2.000000   \n",
       "25%    31724.250000            4.000000    8000.000000           2.000000   \n",
       "50%    51918.000000            6.000000   12000.000000           3.000000   \n",
       "75%    71816.750000            6.000000   17000.000000           5.000000   \n",
       "max    97109.000000            7.000000   31000.000000           5.000000   \n",
       "\n",
       "       Total_visits_online  Total_calls_made     Recency  KMeans_Cluster_id  \\\n",
       "count            86.000000         86.000000   86.000000               86.0   \n",
       "mean              1.011628          0.744186  347.895349                2.0   \n",
       "std               0.874396          0.689178   50.248565                0.0   \n",
       "min               0.000000          0.000000  248.000000                2.0   \n",
       "25%               0.000000          0.000000  308.250000                2.0   \n",
       "50%               1.000000          1.000000  347.500000                2.0   \n",
       "75%               2.000000          1.000000  392.750000                2.0   \n",
       "max               2.000000          2.000000  432.000000                2.0   \n",
       "\n",
       "       Affinity_Cluster_id  AgglomerativeClustering_id  \n",
       "count            86.000000                   86.000000  \n",
       "mean              5.174419                   62.116279  \n",
       "std               2.229175                   36.222001  \n",
       "min               1.000000                    6.000000  \n",
       "25%               3.000000                   34.000000  \n",
       "50%               6.000000                   63.000000  \n",
       "75%               6.000000                   89.000000  \n",
       "max              14.000000                  124.000000  "
      ]
     },
     "execution_count": 216,
     "metadata": {},
     "output_type": "execute_result"
    }
   ],
   "source": [
    "# Analiza klastera br. 6\n",
    "cl2 = prepared_data[prepared_data[\"KMeans_Cluster_id\"] == 2]\n",
    "cl2.describe()"
   ]
  },
  {
   "cell_type": "markdown",
   "metadata": {},
   "source": [
    "#### Klaster 6 obuhvata 86 transakcija, posmatracemo ga zato sto je to klaster koji ima najvise transakcija. Prosecna frekvencija je 5, prosecna monetarna vrednost iznosi 12860.46, prosecni broj dana koji su protekli od poslednje kupovine je 348. Prosecni broj poseta banci 3, online poseta 1, poziva 1."
   ]
  },
  {
   "cell_type": "code",
   "execution_count": 179,
   "metadata": {},
   "outputs": [
    {
     "data": {
      "text/html": [
       "<div>\n",
       "<style scoped>\n",
       "    .dataframe tbody tr th:only-of-type {\n",
       "        vertical-align: middle;\n",
       "    }\n",
       "\n",
       "    .dataframe tbody tr th {\n",
       "        vertical-align: top;\n",
       "    }\n",
       "\n",
       "    .dataframe thead th {\n",
       "        text-align: right;\n",
       "    }\n",
       "</style>\n",
       "<table border=\"1\" class=\"dataframe\">\n",
       "  <thead>\n",
       "    <tr style=\"text-align: right;\">\n",
       "      <th></th>\n",
       "      <th>CustomerID</th>\n",
       "      <th>Total_Credit_Cards</th>\n",
       "      <th>MonetaryValue</th>\n",
       "      <th>Total_visits_bank</th>\n",
       "      <th>Total_visits_online</th>\n",
       "      <th>Total_calls_made</th>\n",
       "      <th>Recency</th>\n",
       "      <th>KMeans_Cluster_id</th>\n",
       "    </tr>\n",
       "  </thead>\n",
       "  <tbody>\n",
       "    <tr>\n",
       "      <th>count</th>\n",
       "      <td>24.000000</td>\n",
       "      <td>24.000000</td>\n",
       "      <td>24.000000</td>\n",
       "      <td>24.000000</td>\n",
       "      <td>24.000000</td>\n",
       "      <td>24.000000</td>\n",
       "      <td>24.000000</td>\n",
       "      <td>24.0</td>\n",
       "    </tr>\n",
       "    <tr>\n",
       "      <th>mean</th>\n",
       "      <td>48245.583333</td>\n",
       "      <td>8.875000</td>\n",
       "      <td>134041.666667</td>\n",
       "      <td>0.708333</td>\n",
       "      <td>8.500000</td>\n",
       "      <td>1.083333</td>\n",
       "      <td>23.708333</td>\n",
       "      <td>3.0</td>\n",
       "    </tr>\n",
       "    <tr>\n",
       "      <th>std</th>\n",
       "      <td>24625.019576</td>\n",
       "      <td>1.034723</td>\n",
       "      <td>31137.114952</td>\n",
       "      <td>0.464306</td>\n",
       "      <td>1.414214</td>\n",
       "      <td>0.775532</td>\n",
       "      <td>13.728673</td>\n",
       "      <td>0.0</td>\n",
       "    </tr>\n",
       "    <tr>\n",
       "      <th>min</th>\n",
       "      <td>13315.000000</td>\n",
       "      <td>7.000000</td>\n",
       "      <td>91000.000000</td>\n",
       "      <td>0.000000</td>\n",
       "      <td>6.000000</td>\n",
       "      <td>0.000000</td>\n",
       "      <td>3.000000</td>\n",
       "      <td>3.0</td>\n",
       "    </tr>\n",
       "    <tr>\n",
       "      <th>25%</th>\n",
       "      <td>28196.750000</td>\n",
       "      <td>8.000000</td>\n",
       "      <td>104250.000000</td>\n",
       "      <td>0.000000</td>\n",
       "      <td>7.000000</td>\n",
       "      <td>0.750000</td>\n",
       "      <td>12.750000</td>\n",
       "      <td>3.0</td>\n",
       "    </tr>\n",
       "    <tr>\n",
       "      <th>50%</th>\n",
       "      <td>50045.500000</td>\n",
       "      <td>9.000000</td>\n",
       "      <td>137500.000000</td>\n",
       "      <td>1.000000</td>\n",
       "      <td>8.000000</td>\n",
       "      <td>1.000000</td>\n",
       "      <td>23.000000</td>\n",
       "      <td>3.0</td>\n",
       "    </tr>\n",
       "    <tr>\n",
       "      <th>75%</th>\n",
       "      <td>67056.000000</td>\n",
       "      <td>10.000000</td>\n",
       "      <td>157750.000000</td>\n",
       "      <td>1.000000</td>\n",
       "      <td>10.000000</td>\n",
       "      <td>2.000000</td>\n",
       "      <td>34.250000</td>\n",
       "      <td>3.0</td>\n",
       "    </tr>\n",
       "    <tr>\n",
       "      <th>max</th>\n",
       "      <td>91575.000000</td>\n",
       "      <td>10.000000</td>\n",
       "      <td>186000.000000</td>\n",
       "      <td>1.000000</td>\n",
       "      <td>11.000000</td>\n",
       "      <td>2.000000</td>\n",
       "      <td>47.000000</td>\n",
       "      <td>3.0</td>\n",
       "    </tr>\n",
       "  </tbody>\n",
       "</table>\n",
       "</div>"
      ],
      "text/plain": [
       "         CustomerID  Total_Credit_Cards  MonetaryValue  Total_visits_bank  \\\n",
       "count     24.000000           24.000000      24.000000          24.000000   \n",
       "mean   48245.583333            8.875000  134041.666667           0.708333   \n",
       "std    24625.019576            1.034723   31137.114952           0.464306   \n",
       "min    13315.000000            7.000000   91000.000000           0.000000   \n",
       "25%    28196.750000            8.000000  104250.000000           0.000000   \n",
       "50%    50045.500000            9.000000  137500.000000           1.000000   \n",
       "75%    67056.000000           10.000000  157750.000000           1.000000   \n",
       "max    91575.000000           10.000000  186000.000000           1.000000   \n",
       "\n",
       "       Total_visits_online  Total_calls_made    Recency  KMeans_Cluster_id  \n",
       "count            24.000000         24.000000  24.000000               24.0  \n",
       "mean              8.500000          1.083333  23.708333                3.0  \n",
       "std               1.414214          0.775532  13.728673                0.0  \n",
       "min               6.000000          0.000000   3.000000                3.0  \n",
       "25%               7.000000          0.750000  12.750000                3.0  \n",
       "50%               8.000000          1.000000  23.000000                3.0  \n",
       "75%              10.000000          2.000000  34.250000                3.0  \n",
       "max              11.000000          2.000000  47.000000                3.0  "
      ]
     },
     "execution_count": 179,
     "metadata": {},
     "output_type": "execute_result"
    }
   ],
   "source": [
    "# Analiza klastera br. 3\n",
    "cl3 = prepared_data[prepared_data[\"KMeans_Cluster_id\"] == 3]\n",
    "cl3.describe()"
   ]
  },
  {
   "cell_type": "markdown",
   "metadata": {},
   "source": [
    "#### Klaster 3 obuhvata 24 transakcija, posmatracemo ga zato sto je to klaster koji ima najmanje transakcija. Prosecna frekvencija je 9, prosecna monetarna vrednost iznosi 148541.67, prosecni broj dana koji su protekli od poslednje kupovine je 38. Prosecni broj poseta banci 1, online poseta 13, poziva 1."
   ]
  },
  {
   "cell_type": "markdown",
   "metadata": {},
   "source": [
    "### I ako smo imali veliki broj outliera, koji su bili klijenti sa 7 kreditnih kartica, nismo ih izbacili jer smo na osnovu dalje analize zakljucili da nije rec o laznim transakcijama vec o redovnim klijentima koji imaju veliki kreditni limit ali nemaju srazmerno tome dovoljan broj kartica. Ovi se klijenti puno razlikuju od ostalih po osnovu svoje monetarne vrednosti ali imaju veliki znacaj za banku jer su to njeni redovni klijenti. "
   ]
  },
  {
   "cell_type": "code",
   "execution_count": 180,
   "metadata": {},
   "outputs": [],
   "source": [
    "labels = km.labels_"
   ]
  },
  {
   "cell_type": "code",
   "execution_count": 181,
   "metadata": {},
   "outputs": [
    {
     "name": "stdout",
     "output_type": "stream",
     "text": [
      "Silhouette Coefficient: 0.192\n"
     ]
    }
   ],
   "source": [
    "print(\"Silhouette Coefficient: %0.3f\"\n",
    "      % metrics.silhouette_score(normalized_data, km.labels_, metric='euclidean'))"
   ]
  },
  {
   "cell_type": "code",
   "execution_count": 182,
   "metadata": {},
   "outputs": [
    {
     "data": {
      "text/plain": [
       "Text(0.5, 0.92, 'Without connectivity constraints (time %.2fs)')"
      ]
     },
     "execution_count": 182,
     "metadata": {},
     "output_type": "execute_result"
    },
    {
     "data": {
      "image/png": "[encoded data removed]",
      "text/plain": [
       "<Figure size 576x576 with 1 Axes>"
      ]
     },
     "metadata": {
      "needs_background": "light"
     },
     "output_type": "display_data"
    }
   ],
   "source": [
    "fig = plt.figure(figsize=(8,8))\n",
    "ax = p3.Axes3D(fig)\n",
    "ax.view_init(10, -40)\n",
    "for l in np.unique(labels):\n",
    "    ax.scatter(prepared_data[prepared_data['KMeans_Cluster_id'] == l]['Total_Credit_Cards'],\n",
    "               prepared_data[prepared_data['KMeans_Cluster_id'] == l]['MonetaryValue'],\n",
    "               color=plt.cm.jet(float(l) / np.max(labels + 1)),\n",
    "               s=20, edgecolor='k')\n",
    "plt.title('Without connectivity constraints (time %.2fs)')"
   ]
  },
  {
   "cell_type": "markdown",
   "metadata": {},
   "source": [
    "#### Na osnovu provere ugla posmatranja, zakljucujemo da se pod uglom od -40 najrelevantnije vidi kako su grupisani klasteri."
   ]
  },
  {
   "cell_type": "code",
   "execution_count": 183,
   "metadata": {},
   "outputs": [
    {
     "data": {
      "text/plain": [
       "Text(0.5, 0.92, 'Without connectivity constraints (time %.2fs)')"
      ]
     },
     "execution_count": 183,
     "metadata": {},
     "output_type": "execute_result"
    },
    {
     "data": {
      "image/png": "[encoded data removed]",
      "text/plain": [
       "<Figure size 720x504 with 1 Axes>"
      ]
     },
     "metadata": {
      "needs_background": "light"
     },
     "output_type": "display_data"
    }
   ],
   "source": [
    "fig = plt.figure(figsize=(10,7))\n",
    "ax = p3.Axes3D(fig)\n",
    "ax.view_init(10, -40)\n",
    "for l in np.unique(labels):\n",
    "    ax.scatter(prepared_data[prepared_data['KMeans_Cluster_id'] == l]['Recency'],\n",
    "               prepared_data[prepared_data['KMeans_Cluster_id'] == l]['Total_Credit_Cards'],\n",
    "               prepared_data[prepared_data['KMeans_Cluster_id'] == l]['MonetaryValue'],\n",
    "               color=plt.cm.jet(float(l) / np.max(labels + 1)),\n",
    "               s=20, edgecolor='k')\n",
    "plt.title('Without connectivity constraints (time %.2fs)')"
   ]
  },
  {
   "cell_type": "markdown",
   "metadata": {},
   "source": [
    "#### Na osnovu provere ugla posmatranja, zakljucujemo da se pod uglom od -40 najrelevantnije vidi kako su grupisani klasteri."
   ]
  },
  {
   "cell_type": "markdown",
   "metadata": {},
   "source": [
    "#### Zakljucak\n",
    "##### Na osnovu sprovedene analize na bazi K-means klasterzacije došli smo da zakljucka da su podaci klasterizovani u 10 grupa. Svaka grupa podrazumeva odredjene karakteristike na osnovu kojih su podaci dodeljeni toj grupi. \n",
    "##### Klaster 0: klijenti najviše komuniciraju sa bankom online, imaju veliki broj kreditinih kartica, veliki kreditni limit ( najveci od svih klastera ) i mali broj dana od poslednje kupovine.\n",
    "##### Klaster 1: klijenti najviše posećuju banku uživo, imaju veliki broj kreditnih kartica, srednji kreditni limit i srednji broj dana od poslednje kupovine. \n",
    "##### Klaster 2: klijenti imaju najviše uzivo poseta banci, mali kreditni limit  i veliki broj dana je prošlo do poslednje kupovine. \n",
    "##### Klaster 3: klijenti najviše komuniciraju sa bankom online, imaju veliki broj kreditnih kartica i mali broj dana od poslednje kupovine. \n",
    "##### Klaster 4: klijenti najviše komuniciraju sa bankom uzivo, imaju srednji kreditni limit, proslo je srednji broj dana od poslednje kupovine.\n",
    "##### Klaster 5: klijenti najviše posecuju banku online, imaju mali broj kreditnih kartica, imaju mali kreditni limit, proslo je veliki broj dana od poslednje kupovine.\n",
    "##### Klaster 6: klijenti najviše posećuju banku uživo, imaju veliki broj kreditnih kartica, mali kreditni limit i srednji broj dana od poslednje kupovine. \n",
    "##### Klaster 7: klijenti najviše komuniciraju putem poziva, imaju do 4 kreditinih kartica, mali kreditni limit i veliki broj dana od poslednje kupovine.\n",
    "##### Klaster 8: klijenti imaju najviše uzivo poseta banci, mali kreditni limit  i mali broj dana je prošlo do poslednje kupovine.\n",
    "##### Klaster 9: klijenti najviše komuniciraju sa bankom online, imaju veliki broj kreditnih kartica i mali broj dana od poslednje kupovine. "
   ]
  },
  {
   "cell_type": "markdown",
   "metadata": {},
   "source": [
    "#### Klasterima 0, 3 i 9 pripadaju lojalni klijenti koji imaju veliki kreditni limit, savetujemo da obratite paznju na njih, ima ih dosta manje u odnosu na one nelojalne. Predlazemo da im odobrite neki vid beneficija da bi ih motivisali da ostanu lojalni."
   ]
  },
  {
   "cell_type": "markdown",
   "metadata": {},
   "source": [
    "###### Primenom K means klasterizacije Silhouette Coefficient iznosi 0.192."
   ]
  },
  {
   "cell_type": "markdown",
   "metadata": {},
   "source": [
    "## Verzija 2: Affinity propagation "
   ]
  },
  {
   "cell_type": "code",
   "execution_count": 184,
   "metadata": {},
   "outputs": [],
   "source": [
    "af = AffinityPropagation(damping=0.9).fit(normalized_data)"
   ]
  },
  {
   "cell_type": "code",
   "execution_count": 185,
   "metadata": {},
   "outputs": [],
   "source": [
    "cluster_centers_indices = af.cluster_centers_indices_"
   ]
  },
  {
   "cell_type": "code",
   "execution_count": 186,
   "metadata": {},
   "outputs": [],
   "source": [
    "cluster_centers = af.cluster_centers_"
   ]
  },
  {
   "cell_type": "code",
   "execution_count": 187,
   "metadata": {},
   "outputs": [],
   "source": [
    "num_of_clusters = af.labels_"
   ]
  },
  {
   "cell_type": "code",
   "execution_count": 188,
   "metadata": {},
   "outputs": [
    {
     "data": {
      "text/plain": [
       "0     51\n",
       "21    43\n",
       "4     41\n",
       "3     38\n",
       "6     36\n",
       "1     33\n",
       "2     31\n",
       "20    31\n",
       "14    31\n",
       "5     30\n",
       "15    29\n",
       "26    29\n",
       "10    27\n",
       "9     27\n",
       "12    25\n",
       "17    25\n",
       "24    22\n",
       "23    21\n",
       "22    19\n",
       "8     17\n",
       "13    17\n",
       "19    15\n",
       "7     12\n",
       "18     2\n",
       "16     1\n",
       "25     1\n",
       "11     1\n",
       "dtype: int64"
      ]
     },
     "execution_count": 188,
     "metadata": {},
     "output_type": "execute_result"
    }
   ],
   "source": [
    "pd.DataFrame(num_of_clusters).value_counts()"
   ]
  },
  {
   "cell_type": "markdown",
   "metadata": {},
   "source": [
    "#### Pozivanjem ove funkcije dobijamo broj transakcija koji sadrzi svaki klaster. "
   ]
  },
  {
   "cell_type": "code",
   "execution_count": 189,
   "metadata": {},
   "outputs": [],
   "source": [
    "prepared_data['Affinity_Cluster_id'] = num_of_clusters"
   ]
  },
  {
   "cell_type": "code",
   "execution_count": 190,
   "metadata": {},
   "outputs": [
    {
     "data": {
      "text/html": [
       "<div>\n",
       "<style scoped>\n",
       "    .dataframe tbody tr th:only-of-type {\n",
       "        vertical-align: middle;\n",
       "    }\n",
       "\n",
       "    .dataframe tbody tr th {\n",
       "        vertical-align: top;\n",
       "    }\n",
       "\n",
       "    .dataframe thead th {\n",
       "        text-align: right;\n",
       "    }\n",
       "</style>\n",
       "<table border=\"1\" class=\"dataframe\">\n",
       "  <thead>\n",
       "    <tr style=\"text-align: right;\">\n",
       "      <th></th>\n",
       "      <th>CustomerID</th>\n",
       "      <th>Total_Credit_Cards</th>\n",
       "      <th>MonetaryValue</th>\n",
       "      <th>Total_visits_bank</th>\n",
       "      <th>Total_visits_online</th>\n",
       "      <th>Total_calls_made</th>\n",
       "      <th>Recency</th>\n",
       "      <th>KMeans_Cluster_id</th>\n",
       "      <th>Affinity_Cluster_id</th>\n",
       "    </tr>\n",
       "  </thead>\n",
       "  <tbody>\n",
       "    <tr>\n",
       "      <th>0</th>\n",
       "      <td>11265</td>\n",
       "      <td>7</td>\n",
       "      <td>51000</td>\n",
       "      <td>3</td>\n",
       "      <td>2</td>\n",
       "      <td>0</td>\n",
       "      <td>210</td>\n",
       "      <td>9</td>\n",
       "      <td>9</td>\n",
       "    </tr>\n",
       "    <tr>\n",
       "      <th>1</th>\n",
       "      <td>11398</td>\n",
       "      <td>6</td>\n",
       "      <td>12000</td>\n",
       "      <td>5</td>\n",
       "      <td>2</td>\n",
       "      <td>1</td>\n",
       "      <td>282</td>\n",
       "      <td>2</td>\n",
       "      <td>6</td>\n",
       "    </tr>\n",
       "    <tr>\n",
       "      <th>2</th>\n",
       "      <td>11412</td>\n",
       "      <td>2</td>\n",
       "      <td>19000</td>\n",
       "      <td>2</td>\n",
       "      <td>3</td>\n",
       "      <td>4</td>\n",
       "      <td>481</td>\n",
       "      <td>5</td>\n",
       "      <td>22</td>\n",
       "    </tr>\n",
       "    <tr>\n",
       "      <th>3</th>\n",
       "      <td>11466</td>\n",
       "      <td>7</td>\n",
       "      <td>9000</td>\n",
       "      <td>5</td>\n",
       "      <td>0</td>\n",
       "      <td>0</td>\n",
       "      <td>339</td>\n",
       "      <td>2</td>\n",
       "      <td>6</td>\n",
       "    </tr>\n",
       "    <tr>\n",
       "      <th>4</th>\n",
       "      <td>11562</td>\n",
       "      <td>4</td>\n",
       "      <td>38000</td>\n",
       "      <td>3</td>\n",
       "      <td>2</td>\n",
       "      <td>0</td>\n",
       "      <td>51</td>\n",
       "      <td>9</td>\n",
       "      <td>9</td>\n",
       "    </tr>\n",
       "  </tbody>\n",
       "</table>\n",
       "</div>"
      ],
      "text/plain": [
       "   CustomerID  Total_Credit_Cards  MonetaryValue  Total_visits_bank  \\\n",
       "0       11265                   7          51000                  3   \n",
       "1       11398                   6          12000                  5   \n",
       "2       11412                   2          19000                  2   \n",
       "3       11466                   7           9000                  5   \n",
       "4       11562                   4          38000                  3   \n",
       "\n",
       "   Total_visits_online  Total_calls_made  Recency  KMeans_Cluster_id  \\\n",
       "0                    2                 0      210                  9   \n",
       "1                    2                 1      282                  2   \n",
       "2                    3                 4      481                  5   \n",
       "3                    0                 0      339                  2   \n",
       "4                    2                 0       51                  9   \n",
       "\n",
       "   Affinity_Cluster_id  \n",
       "0                    9  \n",
       "1                    6  \n",
       "2                   22  \n",
       "3                    6  \n",
       "4                    9  "
      ]
     },
     "execution_count": 190,
     "metadata": {},
     "output_type": "execute_result"
    }
   ],
   "source": [
    "prepared_data.head()"
   ]
  },
  {
   "cell_type": "code",
   "execution_count": 191,
   "metadata": {},
   "outputs": [],
   "source": [
    "labels = af.labels_\n",
    "n_clusters_ = len(cluster_centers_indices)"
   ]
  },
  {
   "cell_type": "code",
   "execution_count": 192,
   "metadata": {},
   "outputs": [
    {
     "data": {
      "text/html": [
       "<div>\n",
       "<style scoped>\n",
       "    .dataframe tbody tr th:only-of-type {\n",
       "        vertical-align: middle;\n",
       "    }\n",
       "\n",
       "    .dataframe tbody tr th {\n",
       "        vertical-align: top;\n",
       "    }\n",
       "\n",
       "    .dataframe thead th {\n",
       "        text-align: right;\n",
       "    }\n",
       "</style>\n",
       "<table border=\"1\" class=\"dataframe\">\n",
       "  <thead>\n",
       "    <tr style=\"text-align: right;\">\n",
       "      <th></th>\n",
       "      <th>CustomerID</th>\n",
       "      <th>Total_Credit_Cards</th>\n",
       "      <th>MonetaryValue</th>\n",
       "      <th>Total_visits_bank</th>\n",
       "      <th>Total_visits_online</th>\n",
       "      <th>Total_calls_made</th>\n",
       "      <th>Recency</th>\n",
       "      <th>KMeans_Cluster_id</th>\n",
       "      <th>Affinity_Cluster_id</th>\n",
       "    </tr>\n",
       "  </thead>\n",
       "  <tbody>\n",
       "    <tr>\n",
       "      <th>count</th>\n",
       "      <td>51.000000</td>\n",
       "      <td>51.000000</td>\n",
       "      <td>51.000000</td>\n",
       "      <td>51.000000</td>\n",
       "      <td>51.000000</td>\n",
       "      <td>51.000000</td>\n",
       "      <td>51.000000</td>\n",
       "      <td>51.000000</td>\n",
       "      <td>51.0</td>\n",
       "    </tr>\n",
       "    <tr>\n",
       "      <th>mean</th>\n",
       "      <td>53611.137255</td>\n",
       "      <td>2.019608</td>\n",
       "      <td>12235.294118</td>\n",
       "      <td>0.784314</td>\n",
       "      <td>3.745098</td>\n",
       "      <td>6.137255</td>\n",
       "      <td>582.686275</td>\n",
       "      <td>0.980392</td>\n",
       "      <td>0.0</td>\n",
       "    </tr>\n",
       "    <tr>\n",
       "      <th>std</th>\n",
       "      <td>26910.125644</td>\n",
       "      <td>1.067524</td>\n",
       "      <td>5155.921781</td>\n",
       "      <td>0.756670</td>\n",
       "      <td>1.110732</td>\n",
       "      <td>0.721654</td>\n",
       "      <td>46.575311</td>\n",
       "      <td>2.004896</td>\n",
       "      <td>0.0</td>\n",
       "    </tr>\n",
       "    <tr>\n",
       "      <th>min</th>\n",
       "      <td>12026.000000</td>\n",
       "      <td>1.000000</td>\n",
       "      <td>3000.000000</td>\n",
       "      <td>0.000000</td>\n",
       "      <td>1.000000</td>\n",
       "      <td>5.000000</td>\n",
       "      <td>455.000000</td>\n",
       "      <td>0.000000</td>\n",
       "      <td>0.0</td>\n",
       "    </tr>\n",
       "    <tr>\n",
       "      <th>25%</th>\n",
       "      <td>30133.000000</td>\n",
       "      <td>1.000000</td>\n",
       "      <td>8000.000000</td>\n",
       "      <td>0.000000</td>\n",
       "      <td>3.000000</td>\n",
       "      <td>6.000000</td>\n",
       "      <td>555.500000</td>\n",
       "      <td>0.000000</td>\n",
       "      <td>0.0</td>\n",
       "    </tr>\n",
       "    <tr>\n",
       "      <th>50%</th>\n",
       "      <td>52326.000000</td>\n",
       "      <td>2.000000</td>\n",
       "      <td>13000.000000</td>\n",
       "      <td>1.000000</td>\n",
       "      <td>4.000000</td>\n",
       "      <td>6.000000</td>\n",
       "      <td>585.000000</td>\n",
       "      <td>0.000000</td>\n",
       "      <td>0.0</td>\n",
       "    </tr>\n",
       "    <tr>\n",
       "      <th>75%</th>\n",
       "      <td>76764.500000</td>\n",
       "      <td>3.000000</td>\n",
       "      <td>17000.000000</td>\n",
       "      <td>1.000000</td>\n",
       "      <td>5.000000</td>\n",
       "      <td>7.000000</td>\n",
       "      <td>621.000000</td>\n",
       "      <td>0.000000</td>\n",
       "      <td>0.0</td>\n",
       "    </tr>\n",
       "    <tr>\n",
       "      <th>max</th>\n",
       "      <td>99596.000000</td>\n",
       "      <td>4.000000</td>\n",
       "      <td>20000.000000</td>\n",
       "      <td>2.000000</td>\n",
       "      <td>5.000000</td>\n",
       "      <td>7.000000</td>\n",
       "      <td>651.000000</td>\n",
       "      <td>5.000000</td>\n",
       "      <td>0.0</td>\n",
       "    </tr>\n",
       "  </tbody>\n",
       "</table>\n",
       "</div>"
      ],
      "text/plain": [
       "         CustomerID  Total_Credit_Cards  MonetaryValue  Total_visits_bank  \\\n",
       "count     51.000000           51.000000      51.000000          51.000000   \n",
       "mean   53611.137255            2.019608   12235.294118           0.784314   \n",
       "std    26910.125644            1.067524    5155.921781           0.756670   \n",
       "min    12026.000000            1.000000    3000.000000           0.000000   \n",
       "25%    30133.000000            1.000000    8000.000000           0.000000   \n",
       "50%    52326.000000            2.000000   13000.000000           1.000000   \n",
       "75%    76764.500000            3.000000   17000.000000           1.000000   \n",
       "max    99596.000000            4.000000   20000.000000           2.000000   \n",
       "\n",
       "       Total_visits_online  Total_calls_made     Recency  KMeans_Cluster_id  \\\n",
       "count            51.000000         51.000000   51.000000          51.000000   \n",
       "mean              3.745098          6.137255  582.686275           0.980392   \n",
       "std               1.110732          0.721654   46.575311           2.004896   \n",
       "min               1.000000          5.000000  455.000000           0.000000   \n",
       "25%               3.000000          6.000000  555.500000           0.000000   \n",
       "50%               4.000000          6.000000  585.000000           0.000000   \n",
       "75%               5.000000          7.000000  621.000000           0.000000   \n",
       "max               5.000000          7.000000  651.000000           5.000000   \n",
       "\n",
       "       Affinity_Cluster_id  \n",
       "count                 51.0  \n",
       "mean                   0.0  \n",
       "std                    0.0  \n",
       "min                    0.0  \n",
       "25%                    0.0  \n",
       "50%                    0.0  \n",
       "75%                    0.0  \n",
       "max                    0.0  "
      ]
     },
     "execution_count": 192,
     "metadata": {},
     "output_type": "execute_result"
    }
   ],
   "source": [
    "# Analiza klastera br. 0\n",
    "cl0 = prepared_data[prepared_data[\"Affinity_Cluster_id\"] == 0]\n",
    "cl0.describe()"
   ]
  },
  {
   "cell_type": "markdown",
   "metadata": {},
   "source": [
    "#### Prvo smo posmatrali klaster koji ima najveci broj klijenata. Klaster 0 obuhvata 51 transakciju, prosecna frekvencija je 2.02, prosecna monetarna vrednost iznosi 12235.29, prosecni broj dana koji su protekli od poslednje kupovine je 583. Prosecni broj poseta banci 1, online poseta 4, poziva 6.¶"
   ]
  },
  {
   "cell_type": "code",
   "execution_count": 193,
   "metadata": {},
   "outputs": [
    {
     "data": {
      "text/html": [
       "<div>\n",
       "<style scoped>\n",
       "    .dataframe tbody tr th:only-of-type {\n",
       "        vertical-align: middle;\n",
       "    }\n",
       "\n",
       "    .dataframe tbody tr th {\n",
       "        vertical-align: top;\n",
       "    }\n",
       "\n",
       "    .dataframe thead th {\n",
       "        text-align: right;\n",
       "    }\n",
       "</style>\n",
       "<table border=\"1\" class=\"dataframe\">\n",
       "  <thead>\n",
       "    <tr style=\"text-align: right;\">\n",
       "      <th></th>\n",
       "      <th>CustomerID</th>\n",
       "      <th>Total_Credit_Cards</th>\n",
       "      <th>MonetaryValue</th>\n",
       "      <th>Total_visits_bank</th>\n",
       "      <th>Total_visits_online</th>\n",
       "      <th>Total_calls_made</th>\n",
       "      <th>Recency</th>\n",
       "      <th>KMeans_Cluster_id</th>\n",
       "      <th>Affinity_Cluster_id</th>\n",
       "    </tr>\n",
       "  </thead>\n",
       "  <tbody>\n",
       "    <tr>\n",
       "      <th>count</th>\n",
       "      <td>12.000000</td>\n",
       "      <td>12.000000</td>\n",
       "      <td>12.000000</td>\n",
       "      <td>12.000000</td>\n",
       "      <td>12.000000</td>\n",
       "      <td>12.000000</td>\n",
       "      <td>12.000000</td>\n",
       "      <td>12.000000</td>\n",
       "      <td>12.0</td>\n",
       "    </tr>\n",
       "    <tr>\n",
       "      <th>mean</th>\n",
       "      <td>52411.750000</td>\n",
       "      <td>9.333333</td>\n",
       "      <td>102333.333333</td>\n",
       "      <td>0.833333</td>\n",
       "      <td>8.833333</td>\n",
       "      <td>1.083333</td>\n",
       "      <td>22.333333</td>\n",
       "      <td>3.416667</td>\n",
       "      <td>7.0</td>\n",
       "    </tr>\n",
       "    <tr>\n",
       "      <th>std</th>\n",
       "      <td>24504.077754</td>\n",
       "      <td>0.887625</td>\n",
       "      <td>11718.930554</td>\n",
       "      <td>0.389249</td>\n",
       "      <td>2.037527</td>\n",
       "      <td>0.900337</td>\n",
       "      <td>14.079859</td>\n",
       "      <td>1.443376</td>\n",
       "      <td>0.0</td>\n",
       "    </tr>\n",
       "    <tr>\n",
       "      <th>min</th>\n",
       "      <td>13315.000000</td>\n",
       "      <td>8.000000</td>\n",
       "      <td>84000.000000</td>\n",
       "      <td>0.000000</td>\n",
       "      <td>6.000000</td>\n",
       "      <td>0.000000</td>\n",
       "      <td>4.000000</td>\n",
       "      <td>3.000000</td>\n",
       "      <td>7.0</td>\n",
       "    </tr>\n",
       "    <tr>\n",
       "      <th>25%</th>\n",
       "      <td>37805.250000</td>\n",
       "      <td>8.750000</td>\n",
       "      <td>95500.000000</td>\n",
       "      <td>1.000000</td>\n",
       "      <td>7.750000</td>\n",
       "      <td>0.000000</td>\n",
       "      <td>11.750000</td>\n",
       "      <td>3.000000</td>\n",
       "      <td>7.0</td>\n",
       "    </tr>\n",
       "    <tr>\n",
       "      <th>50%</th>\n",
       "      <td>50853.000000</td>\n",
       "      <td>10.000000</td>\n",
       "      <td>98500.000000</td>\n",
       "      <td>1.000000</td>\n",
       "      <td>8.000000</td>\n",
       "      <td>1.000000</td>\n",
       "      <td>21.000000</td>\n",
       "      <td>3.000000</td>\n",
       "      <td>7.0</td>\n",
       "    </tr>\n",
       "    <tr>\n",
       "      <th>75%</th>\n",
       "      <td>63292.500000</td>\n",
       "      <td>10.000000</td>\n",
       "      <td>111250.000000</td>\n",
       "      <td>1.000000</td>\n",
       "      <td>10.250000</td>\n",
       "      <td>2.000000</td>\n",
       "      <td>28.250000</td>\n",
       "      <td>3.000000</td>\n",
       "      <td>7.0</td>\n",
       "    </tr>\n",
       "    <tr>\n",
       "      <th>max</th>\n",
       "      <td>91575.000000</td>\n",
       "      <td>10.000000</td>\n",
       "      <td>126000.000000</td>\n",
       "      <td>1.000000</td>\n",
       "      <td>13.000000</td>\n",
       "      <td>2.000000</td>\n",
       "      <td>47.000000</td>\n",
       "      <td>8.000000</td>\n",
       "      <td>7.0</td>\n",
       "    </tr>\n",
       "  </tbody>\n",
       "</table>\n",
       "</div>"
      ],
      "text/plain": [
       "         CustomerID  Total_Credit_Cards  MonetaryValue  Total_visits_bank  \\\n",
       "count     12.000000           12.000000      12.000000          12.000000   \n",
       "mean   52411.750000            9.333333  102333.333333           0.833333   \n",
       "std    24504.077754            0.887625   11718.930554           0.389249   \n",
       "min    13315.000000            8.000000   84000.000000           0.000000   \n",
       "25%    37805.250000            8.750000   95500.000000           1.000000   \n",
       "50%    50853.000000           10.000000   98500.000000           1.000000   \n",
       "75%    63292.500000           10.000000  111250.000000           1.000000   \n",
       "max    91575.000000           10.000000  126000.000000           1.000000   \n",
       "\n",
       "       Total_visits_online  Total_calls_made    Recency  KMeans_Cluster_id  \\\n",
       "count            12.000000         12.000000  12.000000          12.000000   \n",
       "mean              8.833333          1.083333  22.333333           3.416667   \n",
       "std               2.037527          0.900337  14.079859           1.443376   \n",
       "min               6.000000          0.000000   4.000000           3.000000   \n",
       "25%               7.750000          0.000000  11.750000           3.000000   \n",
       "50%               8.000000          1.000000  21.000000           3.000000   \n",
       "75%              10.250000          2.000000  28.250000           3.000000   \n",
       "max              13.000000          2.000000  47.000000           8.000000   \n",
       "\n",
       "       Affinity_Cluster_id  \n",
       "count                 12.0  \n",
       "mean                   7.0  \n",
       "std                    0.0  \n",
       "min                    7.0  \n",
       "25%                    7.0  \n",
       "50%                    7.0  \n",
       "75%                    7.0  \n",
       "max                    7.0  "
      ]
     },
     "execution_count": 193,
     "metadata": {},
     "output_type": "execute_result"
    }
   ],
   "source": [
    "# Analiza klastera br. 7\n",
    "cl7 = prepared_data[prepared_data[\"Affinity_Cluster_id\"] == 7]\n",
    "cl7.describe()"
   ]
  },
  {
   "cell_type": "markdown",
   "metadata": {},
   "source": [
    "###### Affinity propagation je definisao klaster 7 koji ima samo 12 klijenata u tom klasteru. Klaster 7 obuhvata 12 transakcija, prosecna frekvencija je 9.33, prosecna monetarna vrednost iznosi 102333.33, prosecni broj dana koji su protekli od poslednje kupovine je 12. Prosecni broj , poseta banci 1, online poseta 9, poziva 1.¶"
   ]
  },
  {
   "cell_type": "code",
   "execution_count": 194,
   "metadata": {},
   "outputs": [
    {
     "data": {
      "text/html": [
       "<div>\n",
       "<style scoped>\n",
       "    .dataframe tbody tr th:only-of-type {\n",
       "        vertical-align: middle;\n",
       "    }\n",
       "\n",
       "    .dataframe tbody tr th {\n",
       "        vertical-align: top;\n",
       "    }\n",
       "\n",
       "    .dataframe thead th {\n",
       "        text-align: right;\n",
       "    }\n",
       "</style>\n",
       "<table border=\"1\" class=\"dataframe\">\n",
       "  <thead>\n",
       "    <tr style=\"text-align: right;\">\n",
       "      <th></th>\n",
       "      <th>CustomerID</th>\n",
       "      <th>Total_Credit_Cards</th>\n",
       "      <th>MonetaryValue</th>\n",
       "      <th>Total_visits_bank</th>\n",
       "      <th>Total_visits_online</th>\n",
       "      <th>Total_calls_made</th>\n",
       "      <th>Recency</th>\n",
       "      <th>KMeans_Cluster_id</th>\n",
       "      <th>Affinity_Cluster_id</th>\n",
       "    </tr>\n",
       "  </thead>\n",
       "  <tbody>\n",
       "    <tr>\n",
       "      <th>193</th>\n",
       "      <td>37252</td>\n",
       "      <td>10</td>\n",
       "      <td>65000</td>\n",
       "      <td>2</td>\n",
       "      <td>3</td>\n",
       "      <td>10</td>\n",
       "      <td>228</td>\n",
       "      <td>7</td>\n",
       "      <td>11</td>\n",
       "    </tr>\n",
       "  </tbody>\n",
       "</table>\n",
       "</div>"
      ],
      "text/plain": [
       "     CustomerID  Total_Credit_Cards  MonetaryValue  Total_visits_bank  \\\n",
       "193       37252                  10          65000                  2   \n",
       "\n",
       "     Total_visits_online  Total_calls_made  Recency  KMeans_Cluster_id  \\\n",
       "193                    3                10      228                  7   \n",
       "\n",
       "     Affinity_Cluster_id  \n",
       "193                   11  "
      ]
     },
     "execution_count": 194,
     "metadata": {},
     "output_type": "execute_result"
    }
   ],
   "source": [
    "# Analiza klastera br. 11\n",
    "cl11 = prepared_data[prepared_data[\"Affinity_Cluster_id\"] == 11]\n",
    "cl11.head()"
   ]
  },
  {
   "cell_type": "markdown",
   "metadata": {},
   "source": [
    "###### Affinity propagation je definisao klaster 11 i ima samo 1 klijenta u klasteru. K means je ovog klijenta dodelila klasteru 5 ali predstavlja outlier sa znatno vecom monetarnom vrednoscu i vecim brojem kreditnih kartica."
   ]
  },
  {
   "cell_type": "code",
   "execution_count": 195,
   "metadata": {},
   "outputs": [
    {
     "name": "stdout",
     "output_type": "stream",
     "text": [
      "Estimated number of clusters: 27\n",
      "Silhouette Coefficient: 0.256\n"
     ]
    }
   ],
   "source": [
    "n_clusters_ = len(cluster_centers_indices)\n",
    "\n",
    "print('Estimated number of clusters: %d' % n_clusters_)\n",
    "\n",
    "print(\"Silhouette Coefficient: %0.3f\"\n",
    "      % metrics.silhouette_score(normalized_data, labels, metric='sqeuclidean'))"
   ]
  },
  {
   "cell_type": "code",
   "execution_count": 196,
   "metadata": {},
   "outputs": [
    {
     "data": {
      "text/plain": [
       "Text(0.5, 0.92, 'Without connectivity constraints (time %.2fs)')"
      ]
     },
     "execution_count": 196,
     "metadata": {},
     "output_type": "execute_result"
    },
    {
     "data": {
      "image/png": "[encoded data removed]",
      "text/plain": [
       "<Figure size 576x576 with 1 Axes>"
      ]
     },
     "metadata": {
      "needs_background": "light"
     },
     "output_type": "display_data"
    }
   ],
   "source": [
    "fig = plt.figure(figsize=(8,8))\n",
    "ax = p3.Axes3D(fig)\n",
    "ax.view_init(10, -40)\n",
    "for l in np.unique(labels):\n",
    "    ax.scatter(prepared_data[prepared_data['Affinity_Cluster_id'] == l]['Total_Credit_Cards'],\n",
    "               prepared_data[prepared_data['Affinity_Cluster_id'] == l]['MonetaryValue'],\n",
    "               color=plt.cm.jet(float(l) / np.max(labels + 1)),\n",
    "               s=20, edgecolor='k')\n",
    "plt.title('Without connectivity constraints (time %.2fs)')"
   ]
  },
  {
   "cell_type": "markdown",
   "metadata": {},
   "source": [
    "#### Na osnovu provere ugla posmatranja, zakljucujemo da se pod uglom od -40 najrelevantnije vidi kako su grupisani klasteri."
   ]
  },
  {
   "cell_type": "markdown",
   "metadata": {},
   "source": [
    "## Zakljucak\n",
    "##### Affinity Propagation pokazuje sličnost između tačaka, identifikuje primere i razmenjuje poruke između tačaka. Ako je vrednost izmedju tačaka 0, znači da se oni  odlično mapiraju jedan u drugi i na taj način se javlja veći broj klastera, što je broj negativniji, onda se on grupiše u slične klastere. Na osnovu odgovornosti i dostupnosti se odredjuje kojem primerku će biti dodeljen element. Samo visoko odgovornom i visoko dostpunom elementu."
   ]
  },
  {
   "cell_type": "markdown",
   "metadata": {},
   "source": [
    "##### Na osnovu sprovedene analize na bazi Affinity propagation klasterzacije došli smo da zaključka da su podaci klasterizovani u 27 grupa. \n",
    "##### Podaci su grupisani u više grupa u odnosu na K means klasetrizaciju ali poređenjem ove dve klasterizacije došli smo do zaključka da su iste klijente klasterizovali na isti način, razlika je tome što ih je Affinity propagation razložila na detaljnije klastere, odnosno outlier-e je smestio u posebne klastere."
   ]
  },
  {
   "cell_type": "markdown",
   "metadata": {},
   "source": [
    "###### Primenom Affinity propagation klasterizacije Silhouette Coefficient iznosi 0.256."
   ]
  },
  {
   "cell_type": "markdown",
   "metadata": {},
   "source": [
    "## Verzija 3: Hierarchical clustering"
   ]
  },
  {
   "cell_type": "code",
   "execution_count": 197,
   "metadata": {},
   "outputs": [],
   "source": [
    "ward = AgglomerativeClustering(n_clusters = None, linkage='ward',distance_threshold = 0.6).fit(normalized_data)"
   ]
  },
  {
   "cell_type": "code",
   "execution_count": 198,
   "metadata": {},
   "outputs": [],
   "source": [
    "n_clusters_ = ward.n_clusters_"
   ]
  },
  {
   "cell_type": "code",
   "execution_count": 199,
   "metadata": {},
   "outputs": [
    {
     "data": {
      "text/plain": [
       "130"
      ]
     },
     "execution_count": 199,
     "metadata": {},
     "output_type": "execute_result"
    }
   ],
   "source": [
    "n_clusters_"
   ]
  },
  {
   "cell_type": "code",
   "execution_count": 200,
   "metadata": {},
   "outputs": [],
   "source": [
    "label = ward.labels_"
   ]
  },
  {
   "cell_type": "code",
   "execution_count": 201,
   "metadata": {},
   "outputs": [],
   "source": [
    "clusters__ = ward.labels_"
   ]
  },
  {
   "cell_type": "code",
   "execution_count": 202,
   "metadata": {},
   "outputs": [
    {
     "data": {
      "text/plain": [
       "58     11\n",
       "43     11\n",
       "0      10\n",
       "13     10\n",
       "15     10\n",
       "       ..\n",
       "109     1\n",
       "108     1\n",
       "107     1\n",
       "67      1\n",
       "83      1\n",
       "Length: 130, dtype: int64"
      ]
     },
     "execution_count": 202,
     "metadata": {},
     "output_type": "execute_result"
    }
   ],
   "source": [
    "pd.DataFrame(clusters__).value_counts()"
   ]
  },
  {
   "cell_type": "markdown",
   "metadata": {},
   "source": [
    "#### Pozivanjem ove funkcije dobijamo broj transakcija koji sadrzi svaki klaster. "
   ]
  },
  {
   "cell_type": "code",
   "execution_count": 203,
   "metadata": {},
   "outputs": [],
   "source": [
    "prepared_data['AgglomerativeClustering_id'] = clusters__"
   ]
  },
  {
   "cell_type": "code",
   "execution_count": 204,
   "metadata": {},
   "outputs": [
    {
     "data": {
      "text/html": [
       "<div>\n",
       "<style scoped>\n",
       "    .dataframe tbody tr th:only-of-type {\n",
       "        vertical-align: middle;\n",
       "    }\n",
       "\n",
       "    .dataframe tbody tr th {\n",
       "        vertical-align: top;\n",
       "    }\n",
       "\n",
       "    .dataframe thead th {\n",
       "        text-align: right;\n",
       "    }\n",
       "</style>\n",
       "<table border=\"1\" class=\"dataframe\">\n",
       "  <thead>\n",
       "    <tr style=\"text-align: right;\">\n",
       "      <th></th>\n",
       "      <th>CustomerID</th>\n",
       "      <th>Total_Credit_Cards</th>\n",
       "      <th>MonetaryValue</th>\n",
       "      <th>Total_visits_bank</th>\n",
       "      <th>Total_visits_online</th>\n",
       "      <th>Total_calls_made</th>\n",
       "      <th>Recency</th>\n",
       "      <th>KMeans_Cluster_id</th>\n",
       "      <th>Affinity_Cluster_id</th>\n",
       "      <th>AgglomerativeClustering_id</th>\n",
       "    </tr>\n",
       "  </thead>\n",
       "  <tbody>\n",
       "    <tr>\n",
       "      <th>0</th>\n",
       "      <td>11265</td>\n",
       "      <td>7</td>\n",
       "      <td>51000</td>\n",
       "      <td>3</td>\n",
       "      <td>2</td>\n",
       "      <td>0</td>\n",
       "      <td>210</td>\n",
       "      <td>9</td>\n",
       "      <td>9</td>\n",
       "      <td>66</td>\n",
       "    </tr>\n",
       "    <tr>\n",
       "      <th>1</th>\n",
       "      <td>11398</td>\n",
       "      <td>6</td>\n",
       "      <td>12000</td>\n",
       "      <td>5</td>\n",
       "      <td>2</td>\n",
       "      <td>1</td>\n",
       "      <td>282</td>\n",
       "      <td>2</td>\n",
       "      <td>6</td>\n",
       "      <td>101</td>\n",
       "    </tr>\n",
       "    <tr>\n",
       "      <th>2</th>\n",
       "      <td>11412</td>\n",
       "      <td>2</td>\n",
       "      <td>19000</td>\n",
       "      <td>2</td>\n",
       "      <td>3</td>\n",
       "      <td>4</td>\n",
       "      <td>481</td>\n",
       "      <td>5</td>\n",
       "      <td>22</td>\n",
       "      <td>77</td>\n",
       "    </tr>\n",
       "    <tr>\n",
       "      <th>3</th>\n",
       "      <td>11466</td>\n",
       "      <td>7</td>\n",
       "      <td>9000</td>\n",
       "      <td>5</td>\n",
       "      <td>0</td>\n",
       "      <td>0</td>\n",
       "      <td>339</td>\n",
       "      <td>2</td>\n",
       "      <td>6</td>\n",
       "      <td>88</td>\n",
       "    </tr>\n",
       "    <tr>\n",
       "      <th>4</th>\n",
       "      <td>11562</td>\n",
       "      <td>4</td>\n",
       "      <td>38000</td>\n",
       "      <td>3</td>\n",
       "      <td>2</td>\n",
       "      <td>0</td>\n",
       "      <td>51</td>\n",
       "      <td>9</td>\n",
       "      <td>9</td>\n",
       "      <td>52</td>\n",
       "    </tr>\n",
       "  </tbody>\n",
       "</table>\n",
       "</div>"
      ],
      "text/plain": [
       "   CustomerID  Total_Credit_Cards  MonetaryValue  Total_visits_bank  \\\n",
       "0       11265                   7          51000                  3   \n",
       "1       11398                   6          12000                  5   \n",
       "2       11412                   2          19000                  2   \n",
       "3       11466                   7           9000                  5   \n",
       "4       11562                   4          38000                  3   \n",
       "\n",
       "   Total_visits_online  Total_calls_made  Recency  KMeans_Cluster_id  \\\n",
       "0                    2                 0      210                  9   \n",
       "1                    2                 1      282                  2   \n",
       "2                    3                 4      481                  5   \n",
       "3                    0                 0      339                  2   \n",
       "4                    2                 0       51                  9   \n",
       "\n",
       "   Affinity_Cluster_id  AgglomerativeClustering_id  \n",
       "0                    9                          66  \n",
       "1                    6                         101  \n",
       "2                   22                          77  \n",
       "3                    6                          88  \n",
       "4                    9                          52  "
      ]
     },
     "execution_count": 204,
     "metadata": {},
     "output_type": "execute_result"
    }
   ],
   "source": [
    "prepared_data.head()"
   ]
  },
  {
   "cell_type": "code",
   "execution_count": 205,
   "metadata": {},
   "outputs": [
    {
     "data": {
      "text/html": [
       "<div>\n",
       "<style scoped>\n",
       "    .dataframe tbody tr th:only-of-type {\n",
       "        vertical-align: middle;\n",
       "    }\n",
       "\n",
       "    .dataframe tbody tr th {\n",
       "        vertical-align: top;\n",
       "    }\n",
       "\n",
       "    .dataframe thead th {\n",
       "        text-align: right;\n",
       "    }\n",
       "</style>\n",
       "<table border=\"1\" class=\"dataframe\">\n",
       "  <thead>\n",
       "    <tr style=\"text-align: right;\">\n",
       "      <th></th>\n",
       "      <th>CustomerID</th>\n",
       "      <th>Total_Credit_Cards</th>\n",
       "      <th>MonetaryValue</th>\n",
       "      <th>Total_visits_bank</th>\n",
       "      <th>Total_visits_online</th>\n",
       "      <th>Total_calls_made</th>\n",
       "      <th>Recency</th>\n",
       "      <th>KMeans_Cluster_id</th>\n",
       "      <th>Affinity_Cluster_id</th>\n",
       "      <th>AgglomerativeClustering_id</th>\n",
       "    </tr>\n",
       "  </thead>\n",
       "  <tbody>\n",
       "    <tr>\n",
       "      <th>count</th>\n",
       "      <td>11.000000</td>\n",
       "      <td>11.000000</td>\n",
       "      <td>11.000000</td>\n",
       "      <td>11.000000</td>\n",
       "      <td>11.000000</td>\n",
       "      <td>11.000000</td>\n",
       "      <td>11.000000</td>\n",
       "      <td>11.000000</td>\n",
       "      <td>11.0</td>\n",
       "      <td>11.0</td>\n",
       "    </tr>\n",
       "    <tr>\n",
       "      <th>mean</th>\n",
       "      <td>52528.000000</td>\n",
       "      <td>1.545455</td>\n",
       "      <td>11454.545455</td>\n",
       "      <td>1.545455</td>\n",
       "      <td>4.272727</td>\n",
       "      <td>7.818182</td>\n",
       "      <td>465.818182</td>\n",
       "      <td>4.909091</td>\n",
       "      <td>26.0</td>\n",
       "      <td>58.0</td>\n",
       "    </tr>\n",
       "    <tr>\n",
       "      <th>std</th>\n",
       "      <td>25782.273527</td>\n",
       "      <td>0.522233</td>\n",
       "      <td>4824.181513</td>\n",
       "      <td>0.522233</td>\n",
       "      <td>0.786245</td>\n",
       "      <td>0.404520</td>\n",
       "      <td>22.341970</td>\n",
       "      <td>2.427120</td>\n",
       "      <td>0.0</td>\n",
       "      <td>0.0</td>\n",
       "    </tr>\n",
       "    <tr>\n",
       "      <th>min</th>\n",
       "      <td>15546.000000</td>\n",
       "      <td>1.000000</td>\n",
       "      <td>6000.000000</td>\n",
       "      <td>1.000000</td>\n",
       "      <td>3.000000</td>\n",
       "      <td>7.000000</td>\n",
       "      <td>433.000000</td>\n",
       "      <td>0.000000</td>\n",
       "      <td>26.0</td>\n",
       "      <td>58.0</td>\n",
       "    </tr>\n",
       "    <tr>\n",
       "      <th>25%</th>\n",
       "      <td>38307.500000</td>\n",
       "      <td>1.000000</td>\n",
       "      <td>8000.000000</td>\n",
       "      <td>1.000000</td>\n",
       "      <td>4.000000</td>\n",
       "      <td>8.000000</td>\n",
       "      <td>451.500000</td>\n",
       "      <td>6.000000</td>\n",
       "      <td>26.0</td>\n",
       "      <td>58.0</td>\n",
       "    </tr>\n",
       "    <tr>\n",
       "      <th>50%</th>\n",
       "      <td>55849.000000</td>\n",
       "      <td>2.000000</td>\n",
       "      <td>9000.000000</td>\n",
       "      <td>2.000000</td>\n",
       "      <td>4.000000</td>\n",
       "      <td>8.000000</td>\n",
       "      <td>467.000000</td>\n",
       "      <td>6.000000</td>\n",
       "      <td>26.0</td>\n",
       "      <td>58.0</td>\n",
       "    </tr>\n",
       "    <tr>\n",
       "      <th>75%</th>\n",
       "      <td>64506.000000</td>\n",
       "      <td>2.000000</td>\n",
       "      <td>16000.000000</td>\n",
       "      <td>2.000000</td>\n",
       "      <td>5.000000</td>\n",
       "      <td>8.000000</td>\n",
       "      <td>479.500000</td>\n",
       "      <td>6.000000</td>\n",
       "      <td>26.0</td>\n",
       "      <td>58.0</td>\n",
       "    </tr>\n",
       "    <tr>\n",
       "      <th>max</th>\n",
       "      <td>98288.000000</td>\n",
       "      <td>2.000000</td>\n",
       "      <td>19000.000000</td>\n",
       "      <td>2.000000</td>\n",
       "      <td>5.000000</td>\n",
       "      <td>8.000000</td>\n",
       "      <td>503.000000</td>\n",
       "      <td>6.000000</td>\n",
       "      <td>26.0</td>\n",
       "      <td>58.0</td>\n",
       "    </tr>\n",
       "  </tbody>\n",
       "</table>\n",
       "</div>"
      ],
      "text/plain": [
       "         CustomerID  Total_Credit_Cards  MonetaryValue  Total_visits_bank  \\\n",
       "count     11.000000           11.000000      11.000000          11.000000   \n",
       "mean   52528.000000            1.545455   11454.545455           1.545455   \n",
       "std    25782.273527            0.522233    4824.181513           0.522233   \n",
       "min    15546.000000            1.000000    6000.000000           1.000000   \n",
       "25%    38307.500000            1.000000    8000.000000           1.000000   \n",
       "50%    55849.000000            2.000000    9000.000000           2.000000   \n",
       "75%    64506.000000            2.000000   16000.000000           2.000000   \n",
       "max    98288.000000            2.000000   19000.000000           2.000000   \n",
       "\n",
       "       Total_visits_online  Total_calls_made     Recency  KMeans_Cluster_id  \\\n",
       "count            11.000000         11.000000   11.000000          11.000000   \n",
       "mean              4.272727          7.818182  465.818182           4.909091   \n",
       "std               0.786245          0.404520   22.341970           2.427120   \n",
       "min               3.000000          7.000000  433.000000           0.000000   \n",
       "25%               4.000000          8.000000  451.500000           6.000000   \n",
       "50%               4.000000          8.000000  467.000000           6.000000   \n",
       "75%               5.000000          8.000000  479.500000           6.000000   \n",
       "max               5.000000          8.000000  503.000000           6.000000   \n",
       "\n",
       "       Affinity_Cluster_id  AgglomerativeClustering_id  \n",
       "count                 11.0                        11.0  \n",
       "mean                  26.0                        58.0  \n",
       "std                    0.0                         0.0  \n",
       "min                   26.0                        58.0  \n",
       "25%                   26.0                        58.0  \n",
       "50%                   26.0                        58.0  \n",
       "75%                   26.0                        58.0  \n",
       "max                   26.0                        58.0  "
      ]
     },
     "execution_count": 205,
     "metadata": {},
     "output_type": "execute_result"
    }
   ],
   "source": [
    "# Analiza klastera br. 58\n",
    "cl58 = prepared_data[prepared_data[\"AgglomerativeClustering_id\"] == 58]\n",
    "cl58.describe()"
   ]
  },
  {
   "cell_type": "markdown",
   "metadata": {},
   "source": [
    "###### Ovaj metod je definisao klaster 58 koji ima najvise klijenata. Klaster 58 obuhvata 11 transakcija, prosecna frekvencija je 1.55, prosecna monetarna vrednost iznosi 11454,55, prosecni broj dana koji su protekli od poslednje kupovine je 456. Prosecni broj poseta banci 2 online poseta 4, poziva 8."
   ]
  },
  {
   "cell_type": "code",
   "execution_count": 206,
   "metadata": {},
   "outputs": [
    {
     "data": {
      "text/html": [
       "<div>\n",
       "<style scoped>\n",
       "    .dataframe tbody tr th:only-of-type {\n",
       "        vertical-align: middle;\n",
       "    }\n",
       "\n",
       "    .dataframe tbody tr th {\n",
       "        vertical-align: top;\n",
       "    }\n",
       "\n",
       "    .dataframe thead th {\n",
       "        text-align: right;\n",
       "    }\n",
       "</style>\n",
       "<table border=\"1\" class=\"dataframe\">\n",
       "  <thead>\n",
       "    <tr style=\"text-align: right;\">\n",
       "      <th></th>\n",
       "      <th>CustomerID</th>\n",
       "      <th>Total_Credit_Cards</th>\n",
       "      <th>MonetaryValue</th>\n",
       "      <th>Total_visits_bank</th>\n",
       "      <th>Total_visits_online</th>\n",
       "      <th>Total_calls_made</th>\n",
       "      <th>Recency</th>\n",
       "      <th>KMeans_Cluster_id</th>\n",
       "      <th>Affinity_Cluster_id</th>\n",
       "      <th>AgglomerativeClustering_id</th>\n",
       "    </tr>\n",
       "  </thead>\n",
       "  <tbody>\n",
       "    <tr>\n",
       "      <th>count</th>\n",
       "      <td>4.000000</td>\n",
       "      <td>4.000000</td>\n",
       "      <td>4.000000</td>\n",
       "      <td>4.00</td>\n",
       "      <td>4.00000</td>\n",
       "      <td>4.00000</td>\n",
       "      <td>4.000000</td>\n",
       "      <td>4.000000</td>\n",
       "      <td>4.0</td>\n",
       "      <td>4.0</td>\n",
       "    </tr>\n",
       "    <tr>\n",
       "      <th>mean</th>\n",
       "      <td>54026.750000</td>\n",
       "      <td>2.000000</td>\n",
       "      <td>9000.000000</td>\n",
       "      <td>1.75</td>\n",
       "      <td>2.50000</td>\n",
       "      <td>5.50000</td>\n",
       "      <td>474.500000</td>\n",
       "      <td>2.500000</td>\n",
       "      <td>15.0</td>\n",
       "      <td>54.0</td>\n",
       "    </tr>\n",
       "    <tr>\n",
       "      <th>std</th>\n",
       "      <td>16671.862691</td>\n",
       "      <td>0.816497</td>\n",
       "      <td>2160.246899</td>\n",
       "      <td>0.50</td>\n",
       "      <td>0.57735</td>\n",
       "      <td>0.57735</td>\n",
       "      <td>6.658328</td>\n",
       "      <td>2.886751</td>\n",
       "      <td>0.0</td>\n",
       "      <td>0.0</td>\n",
       "    </tr>\n",
       "    <tr>\n",
       "      <th>min</th>\n",
       "      <td>37671.000000</td>\n",
       "      <td>1.000000</td>\n",
       "      <td>6000.000000</td>\n",
       "      <td>1.00</td>\n",
       "      <td>2.00000</td>\n",
       "      <td>5.00000</td>\n",
       "      <td>469.000000</td>\n",
       "      <td>0.000000</td>\n",
       "      <td>15.0</td>\n",
       "      <td>54.0</td>\n",
       "    </tr>\n",
       "    <tr>\n",
       "      <th>25%</th>\n",
       "      <td>45800.250000</td>\n",
       "      <td>1.750000</td>\n",
       "      <td>8250.000000</td>\n",
       "      <td>1.75</td>\n",
       "      <td>2.00000</td>\n",
       "      <td>5.00000</td>\n",
       "      <td>470.500000</td>\n",
       "      <td>0.000000</td>\n",
       "      <td>15.0</td>\n",
       "      <td>54.0</td>\n",
       "    </tr>\n",
       "    <tr>\n",
       "      <th>50%</th>\n",
       "      <td>50646.500000</td>\n",
       "      <td>2.000000</td>\n",
       "      <td>9500.000000</td>\n",
       "      <td>2.00</td>\n",
       "      <td>2.50000</td>\n",
       "      <td>5.50000</td>\n",
       "      <td>472.500000</td>\n",
       "      <td>2.500000</td>\n",
       "      <td>15.0</td>\n",
       "      <td>54.0</td>\n",
       "    </tr>\n",
       "    <tr>\n",
       "      <th>75%</th>\n",
       "      <td>58873.000000</td>\n",
       "      <td>2.250000</td>\n",
       "      <td>10250.000000</td>\n",
       "      <td>2.00</td>\n",
       "      <td>3.00000</td>\n",
       "      <td>6.00000</td>\n",
       "      <td>476.500000</td>\n",
       "      <td>5.000000</td>\n",
       "      <td>15.0</td>\n",
       "      <td>54.0</td>\n",
       "    </tr>\n",
       "    <tr>\n",
       "      <th>max</th>\n",
       "      <td>77143.000000</td>\n",
       "      <td>3.000000</td>\n",
       "      <td>11000.000000</td>\n",
       "      <td>2.00</td>\n",
       "      <td>3.00000</td>\n",
       "      <td>6.00000</td>\n",
       "      <td>484.000000</td>\n",
       "      <td>5.000000</td>\n",
       "      <td>15.0</td>\n",
       "      <td>54.0</td>\n",
       "    </tr>\n",
       "  </tbody>\n",
       "</table>\n",
       "</div>"
      ],
      "text/plain": [
       "         CustomerID  Total_Credit_Cards  MonetaryValue  Total_visits_bank  \\\n",
       "count      4.000000            4.000000       4.000000               4.00   \n",
       "mean   54026.750000            2.000000    9000.000000               1.75   \n",
       "std    16671.862691            0.816497    2160.246899               0.50   \n",
       "min    37671.000000            1.000000    6000.000000               1.00   \n",
       "25%    45800.250000            1.750000    8250.000000               1.75   \n",
       "50%    50646.500000            2.000000    9500.000000               2.00   \n",
       "75%    58873.000000            2.250000   10250.000000               2.00   \n",
       "max    77143.000000            3.000000   11000.000000               2.00   \n",
       "\n",
       "       Total_visits_online  Total_calls_made     Recency  KMeans_Cluster_id  \\\n",
       "count              4.00000           4.00000    4.000000           4.000000   \n",
       "mean               2.50000           5.50000  474.500000           2.500000   \n",
       "std                0.57735           0.57735    6.658328           2.886751   \n",
       "min                2.00000           5.00000  469.000000           0.000000   \n",
       "25%                2.00000           5.00000  470.500000           0.000000   \n",
       "50%                2.50000           5.50000  472.500000           2.500000   \n",
       "75%                3.00000           6.00000  476.500000           5.000000   \n",
       "max                3.00000           6.00000  484.000000           5.000000   \n",
       "\n",
       "       Affinity_Cluster_id  AgglomerativeClustering_id  \n",
       "count                  4.0                         4.0  \n",
       "mean                  15.0                        54.0  \n",
       "std                    0.0                         0.0  \n",
       "min                   15.0                        54.0  \n",
       "25%                   15.0                        54.0  \n",
       "50%                   15.0                        54.0  \n",
       "75%                   15.0                        54.0  \n",
       "max                   15.0                        54.0  "
      ]
     },
     "execution_count": 206,
     "metadata": {},
     "output_type": "execute_result"
    }
   ],
   "source": [
    "# Analiza klastera br. 54\n",
    "cl54 = prepared_data[prepared_data[\"AgglomerativeClustering_id\"] == 54]\n",
    "cl54.describe()"
   ]
  },
  {
   "cell_type": "markdown",
   "metadata": {},
   "source": [
    "###### Ovaj metod je definisao klaster 54 koji ima samo cetiri klijenta. Kod K means klasterizacije oni pripadaju klasteru 3 i predstavljaju outlier-e tog klastera, zato sto ima vise kreditnih kartica i manje poziva."
   ]
  },
  {
   "cell_type": "code",
   "execution_count": 207,
   "metadata": {},
   "outputs": [
    {
     "data": {
      "text/html": [
       "<div>\n",
       "<style scoped>\n",
       "    .dataframe tbody tr th:only-of-type {\n",
       "        vertical-align: middle;\n",
       "    }\n",
       "\n",
       "    .dataframe tbody tr th {\n",
       "        vertical-align: top;\n",
       "    }\n",
       "\n",
       "    .dataframe thead th {\n",
       "        text-align: right;\n",
       "    }\n",
       "</style>\n",
       "<table border=\"1\" class=\"dataframe\">\n",
       "  <thead>\n",
       "    <tr style=\"text-align: right;\">\n",
       "      <th></th>\n",
       "      <th>CustomerID</th>\n",
       "      <th>Total_Credit_Cards</th>\n",
       "      <th>MonetaryValue</th>\n",
       "      <th>Total_visits_bank</th>\n",
       "      <th>Total_visits_online</th>\n",
       "      <th>Total_calls_made</th>\n",
       "      <th>Recency</th>\n",
       "      <th>KMeans_Cluster_id</th>\n",
       "      <th>Affinity_Cluster_id</th>\n",
       "      <th>AgglomerativeClustering_id</th>\n",
       "    </tr>\n",
       "  </thead>\n",
       "  <tbody>\n",
       "    <tr>\n",
       "      <th>count</th>\n",
       "      <td>1.0</td>\n",
       "      <td>1.0</td>\n",
       "      <td>1.0</td>\n",
       "      <td>1.0</td>\n",
       "      <td>1.0</td>\n",
       "      <td>1.0</td>\n",
       "      <td>1.0</td>\n",
       "      <td>1.0</td>\n",
       "      <td>1.0</td>\n",
       "      <td>1.0</td>\n",
       "    </tr>\n",
       "    <tr>\n",
       "      <th>mean</th>\n",
       "      <td>38414.0</td>\n",
       "      <td>3.0</td>\n",
       "      <td>50000.0</td>\n",
       "      <td>0.0</td>\n",
       "      <td>10.0</td>\n",
       "      <td>9.0</td>\n",
       "      <td>659.0</td>\n",
       "      <td>6.0</td>\n",
       "      <td>12.0</td>\n",
       "      <td>83.0</td>\n",
       "    </tr>\n",
       "    <tr>\n",
       "      <th>std</th>\n",
       "      <td>NaN</td>\n",
       "      <td>NaN</td>\n",
       "      <td>NaN</td>\n",
       "      <td>NaN</td>\n",
       "      <td>NaN</td>\n",
       "      <td>NaN</td>\n",
       "      <td>NaN</td>\n",
       "      <td>NaN</td>\n",
       "      <td>NaN</td>\n",
       "      <td>NaN</td>\n",
       "    </tr>\n",
       "    <tr>\n",
       "      <th>min</th>\n",
       "      <td>38414.0</td>\n",
       "      <td>3.0</td>\n",
       "      <td>50000.0</td>\n",
       "      <td>0.0</td>\n",
       "      <td>10.0</td>\n",
       "      <td>9.0</td>\n",
       "      <td>659.0</td>\n",
       "      <td>6.0</td>\n",
       "      <td>12.0</td>\n",
       "      <td>83.0</td>\n",
       "    </tr>\n",
       "    <tr>\n",
       "      <th>25%</th>\n",
       "      <td>38414.0</td>\n",
       "      <td>3.0</td>\n",
       "      <td>50000.0</td>\n",
       "      <td>0.0</td>\n",
       "      <td>10.0</td>\n",
       "      <td>9.0</td>\n",
       "      <td>659.0</td>\n",
       "      <td>6.0</td>\n",
       "      <td>12.0</td>\n",
       "      <td>83.0</td>\n",
       "    </tr>\n",
       "    <tr>\n",
       "      <th>50%</th>\n",
       "      <td>38414.0</td>\n",
       "      <td>3.0</td>\n",
       "      <td>50000.0</td>\n",
       "      <td>0.0</td>\n",
       "      <td>10.0</td>\n",
       "      <td>9.0</td>\n",
       "      <td>659.0</td>\n",
       "      <td>6.0</td>\n",
       "      <td>12.0</td>\n",
       "      <td>83.0</td>\n",
       "    </tr>\n",
       "    <tr>\n",
       "      <th>75%</th>\n",
       "      <td>38414.0</td>\n",
       "      <td>3.0</td>\n",
       "      <td>50000.0</td>\n",
       "      <td>0.0</td>\n",
       "      <td>10.0</td>\n",
       "      <td>9.0</td>\n",
       "      <td>659.0</td>\n",
       "      <td>6.0</td>\n",
       "      <td>12.0</td>\n",
       "      <td>83.0</td>\n",
       "    </tr>\n",
       "    <tr>\n",
       "      <th>max</th>\n",
       "      <td>38414.0</td>\n",
       "      <td>3.0</td>\n",
       "      <td>50000.0</td>\n",
       "      <td>0.0</td>\n",
       "      <td>10.0</td>\n",
       "      <td>9.0</td>\n",
       "      <td>659.0</td>\n",
       "      <td>6.0</td>\n",
       "      <td>12.0</td>\n",
       "      <td>83.0</td>\n",
       "    </tr>\n",
       "  </tbody>\n",
       "</table>\n",
       "</div>"
      ],
      "text/plain": [
       "       CustomerID  Total_Credit_Cards  MonetaryValue  Total_visits_bank  \\\n",
       "count         1.0                 1.0            1.0                1.0   \n",
       "mean      38414.0                 3.0        50000.0                0.0   \n",
       "std           NaN                 NaN            NaN                NaN   \n",
       "min       38414.0                 3.0        50000.0                0.0   \n",
       "25%       38414.0                 3.0        50000.0                0.0   \n",
       "50%       38414.0                 3.0        50000.0                0.0   \n",
       "75%       38414.0                 3.0        50000.0                0.0   \n",
       "max       38414.0                 3.0        50000.0                0.0   \n",
       "\n",
       "       Total_visits_online  Total_calls_made  Recency  KMeans_Cluster_id  \\\n",
       "count                  1.0               1.0      1.0                1.0   \n",
       "mean                  10.0               9.0    659.0                6.0   \n",
       "std                    NaN               NaN      NaN                NaN   \n",
       "min                   10.0               9.0    659.0                6.0   \n",
       "25%                   10.0               9.0    659.0                6.0   \n",
       "50%                   10.0               9.0    659.0                6.0   \n",
       "75%                   10.0               9.0    659.0                6.0   \n",
       "max                   10.0               9.0    659.0                6.0   \n",
       "\n",
       "       Affinity_Cluster_id  AgglomerativeClustering_id  \n",
       "count                  1.0                         1.0  \n",
       "mean                  12.0                        83.0  \n",
       "std                    NaN                         NaN  \n",
       "min                   12.0                        83.0  \n",
       "25%                   12.0                        83.0  \n",
       "50%                   12.0                        83.0  \n",
       "75%                   12.0                        83.0  \n",
       "max                   12.0                        83.0  "
      ]
     },
     "execution_count": 207,
     "metadata": {},
     "output_type": "execute_result"
    }
   ],
   "source": [
    "# Analiza klastera br. 83\n",
    "cl83 = prepared_data[prepared_data[\"AgglomerativeClustering_id\"] == 83]\n",
    "cl83.describe()"
   ]
  },
  {
   "cell_type": "markdown",
   "metadata": {},
   "source": [
    "###### Ovaj metod je definisao klaster broj 83 koji ima samo jednog klijenta. Kod K means klasterizacije oni pripadaju klasteru 3 i predstavlja outlier tog klastera."
   ]
  },
  {
   "cell_type": "code",
   "execution_count": 208,
   "metadata": {},
   "outputs": [],
   "source": [
    "st = time.time()"
   ]
  },
  {
   "cell_type": "code",
   "execution_count": 209,
   "metadata": {},
   "outputs": [],
   "source": [
    "elapsed_time = time.time() - st"
   ]
  },
  {
   "cell_type": "code",
   "execution_count": 210,
   "metadata": {},
   "outputs": [],
   "source": [
    "label = ward.labels_"
   ]
  },
  {
   "cell_type": "code",
   "execution_count": 211,
   "metadata": {},
   "outputs": [
    {
     "name": "stdout",
     "output_type": "stream",
     "text": [
      "Silhouette Coefficient: 0.202\n"
     ]
    }
   ],
   "source": [
    "print(\"Silhouette Coefficient: %0.3f\"\n",
    "      % metrics.silhouette_score(normalized_data, ward.labels_, metric='euclidean'))"
   ]
  },
  {
   "cell_type": "code",
   "execution_count": 212,
   "metadata": {},
   "outputs": [
    {
     "name": "stdout",
     "output_type": "stream",
     "text": [
      "Compute unstructured hierarchical clustering...\n",
      "Elapsed time: 0.01s\n",
      "Number of points: 655\n"
     ]
    }
   ],
   "source": [
    "print(\"Compute unstructured hierarchical clustering...\")\n",
    "st = time.time()\n",
    "ward = AgglomerativeClustering(n_clusters= 130, linkage='ward').fit(normalized_data)\n",
    "elapsed_time = time.time() - st\n",
    "label = ward.labels_\n",
    "print(\"Elapsed time: %.2fs\" % elapsed_time)\n",
    "print(\"Number of points: %i\" % label.size)"
   ]
  },
  {
   "cell_type": "code",
   "execution_count": 213,
   "metadata": {},
   "outputs": [
    {
     "data": {
      "text/plain": [
       "Text(0.5, 0.92, 'Without connectivity constraints (time 0.01s)')"
      ]
     },
     "execution_count": 213,
     "metadata": {},
     "output_type": "execute_result"
    },
    {
     "data": {
      "image/png": "[encoded data removed]",
      "text/plain": [
       "<Figure size 720x576 with 1 Axes>"
      ]
     },
     "metadata": {
      "needs_background": "light"
     },
     "output_type": "display_data"
    }
   ],
   "source": [
    "fig = plt.figure(figsize=(10,8))\n",
    "ax = p3.Axes3D(fig)\n",
    "ax.view_init(10, -60)\n",
    "for l in np.unique(label):\n",
    "    ax.scatter(normalized_data[label == l, 0], normalized_data[label == l, 1], normalized_data[label == l, 2],\n",
    "               color=plt.cm.jet(float(l) / np.max(label + 1)),\n",
    "               s=20, edgecolor='k')\n",
    "plt.title('Without connectivity constraints (time %.2fs)' % elapsed_time)"
   ]
  },
  {
   "cell_type": "markdown",
   "metadata": {},
   "source": [
    "#### Na osnovu provere ugla posmatranja, zakljucujemo da se pod uglom od -60 najrelevantnije vidi kako su grupisani klasteri."
   ]
  },
  {
   "cell_type": "markdown",
   "metadata": {},
   "source": [
    "## Zakljucak\n",
    "##### Hierarchical clustering je predstavljen u obliku 3D grafika."
   ]
  },
  {
   "cell_type": "markdown",
   "metadata": {},
   "source": [
    "##### Na osnovu sprovedene analize došli smo do zaključka da su primenom Hierarchical klasterizacije klijenti grupisani u 130 klastera. Ova metoda klasterizacije je razvrstala klijente na još sitnije klastere u odnosu na prethodne dve metode."
   ]
  },
  {
   "cell_type": "markdown",
   "metadata": {},
   "source": [
    "###### Primenom Hierarchical klasterizacije Silhouette Coefficient iznosi 0.202."
   ]
  },
  {
   "cell_type": "markdown",
   "metadata": {},
   "source": [
    "## 6. Donosenje odluke"
   ]
  },
  {
   "cell_type": "markdown",
   "metadata": {},
   "source": [
    "#### Na osnovu dobijenih rezultata primenom tri metoda klasterizacije, zaključujemo da je najbolje primeniti Affinity propagation klasterizaciju. Kod ovog metoda klasterizacije, Silhouette Coefficient je najviši i iznosi 0.256. Ovaj koeficijent nam pokazuje koliko nam je metod dobar i koliko pravilno klasteriše podatke. Primecujemo da ima veliki broj klijenata koji veoma dugo nisu koristili usluge kreditnih kartica, predlazemo da im ponudite odredjene povoljnosti pri koriscenju kreditnih kartica, na primer za svaku kupovinu iznad 5000, iznos se moze podeliti na 12 mesecnih rata. Klijenata koji redovno koriste kreditne kartice imaju znatno manje u odnosu na one koji nisu dugo koristili, ima ih samo 125. Takodje kao sto smo napomenuli imal najmanji broj klijenata koji imaju preko 50000 monetarne vrednosti, program ih definise kao outlier-e jer znatno odstupaju ali su oni nasuprot tome veoma vazni i lojalni klijenti, ne treba odbaciti informacije o njima. Nas je predlog da ih nagradite za lojalnost."
   ]
  },
  {
   "cell_type": "code",
   "execution_count": null,
   "metadata": {},
   "outputs": [],
   "source": []
  }
 ],
 "metadata": {
  "kernelspec": {
   "display_name": "Python 3",
   "language": "python",
   "name": "python3"
  },
  "language_info": {
   "codemirror_mode": {
    "name": "ipython",
    "version": 3
   },
   "file_extension": ".py",
   "mimetype": "text/x-python",
   "name": "python",
   "nbconvert_exporter": "python",
   "pygments_lexer": "ipython3",
   "version": "3.8.5"
  }
 },
 "nbformat": 4,
 "nbformat_minor": 5
}
